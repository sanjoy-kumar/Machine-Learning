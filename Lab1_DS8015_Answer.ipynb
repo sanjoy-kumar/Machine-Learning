{
  "nbformat": 4,
  "nbformat_minor": 0,
  "metadata": {
    "@webio": {
      "lastCommId": null,
      "lastKernelId": null
    },
    "colab": {
      "name": "Lab1_DS8015_Answer.ipynb",
      "provenance": [],
      "collapsed_sections": [],
      "include_colab_link": true
    },
    "kernelspec": {
      "display_name": "Python 3",
      "language": "python",
      "name": "python3"
    },
    "language_info": {
      "codemirror_mode": {
        "name": "ipython",
        "version": 3
      },
      "file_extension": ".py",
      "mimetype": "text/x-python",
      "name": "python",
      "nbconvert_exporter": "python",
      "pygments_lexer": "ipython3",
      "version": "3.7.4"
    }
  },
  "cells": [
    {
      "cell_type": "markdown",
      "metadata": {
        "id": "view-in-github",
        "colab_type": "text"
      },
      "source": [
        "<a href=\"https://colab.research.google.com/github/sanjoy-kumar/Machine-Learning/blob/main/Lab1_DS8015_Answer.ipynb\" target=\"_parent\"><img src=\"https://colab.research.google.com/assets/colab-badge.svg\" alt=\"Open In Colab\"/></a>"
      ]
    },
    {
      "cell_type": "markdown",
      "metadata": {
        "id": "luWJ8fYv7cis"
      },
      "source": [
        "# Lab1 Solution"
      ]
    },
    {
      "cell_type": "markdown",
      "metadata": {
        "id": "aF1lFwhL7civ"
      },
      "source": [
        "### Question 1"
      ]
    },
    {
      "cell_type": "markdown",
      "metadata": {
        "id": "xzHz73Q-7cix"
      },
      "source": [
        "Provide python codes that will find all numbers which are divisible by 7 but not multiple of 5,\n",
        "between 1000 and 1200 (both included).\n",
        "Obtained numbers should be printed in a comma-separated sequence on a single line.\n",
        "\n",
        "Hints: \n",
        "range(#begin, #end) method might be useful"
      ]
    },
    {
      "cell_type": "markdown",
      "source": [
        "### Solution 1:"
      ],
      "metadata": {
        "id": "UUBvLC5j_FAR"
      }
    },
    {
      "cell_type": "code",
      "metadata": {
        "id": "62xOu9y-7ciy",
        "colab": {
          "base_uri": "https://localhost:8080/"
        },
        "outputId": "2e136b6b-ac14-4e4f-8456-57a159520f8c"
      },
      "source": [
        "numberArray = []\n",
        "for number in range(1000, 1201):\n",
        "  if (number % 7) == 0 and (number % 5) != 0:\n",
        "    numberArray.append(number)\n",
        "print(numberArray) "
      ],
      "execution_count": 6,
      "outputs": [
        {
          "output_type": "stream",
          "name": "stdout",
          "text": [
            "[1001, 1008, 1022, 1029, 1036, 1043, 1057, 1064, 1071, 1078, 1092, 1099, 1106, 1113, 1127, 1134, 1141, 1148, 1162, 1169, 1176, 1183, 1197]\n"
          ]
        }
      ]
    },
    {
      "cell_type": "markdown",
      "metadata": {
        "id": "n3fMm6JO7ci2"
      },
      "source": [
        "### Question 2"
      ]
    },
    {
      "cell_type": "markdown",
      "metadata": {
        "id": "2Mew8fgA7ci3"
      },
      "source": [
        "Provide python codes that calculates and prints the value according to the given formula:\n",
        "\n",
        "Q = Square root of [(2 * C * D)/H]\n",
        "\n",
        "Following are the fixed values of C and H:\n",
        "\n",
        "C is 50. H is 30.\n",
        "\n",
        "D is the variable whose values should be input to your program in a comma-separated sequence.\n",
        "\n",
        "Example: Assume the following comma separated sequence is inputed to the program:\n",
        "\n",
        "100,150,180\n",
        "\n",
        "The output should be:\n",
        "\n",
        "18,22,24\n",
        "\n",
        "Hints:\n",
        "If the output received is in decimal form, it should be rounded off to its nearest value (for example, if the output received is 26.0, it should be printed as 26)\n",
        "\n",
        "In case of input data being supplied to the question, it should be assumed to be a console input. "
      ]
    },
    {
      "cell_type": "markdown",
      "source": [
        "### Solution 2:"
      ],
      "metadata": {
        "id": "AI7qpD1s_NjN"
      }
    },
    {
      "cell_type": "code",
      "metadata": {
        "id": "qVBQoQ9V7ci4",
        "colab": {
          "base_uri": "https://localhost:8080/"
        },
        "outputId": "900418e4-bbc5-4f32-f777-6376c34fd590"
      },
      "source": [
        "# you can use math library for math.sqrt() function\n",
        "import math\n",
        "\n",
        "# for a given list \"myList\" print(','.join(myList)) prints out the values in myList in comma-separated manner\n",
        "\n",
        "C = 50.\n",
        "H = 30.\n",
        "\n",
        "#myList = [100,150,180]\n",
        "\n",
        "myList = []\n",
        "ch = 'y'\n",
        "\n",
        "while ch == 'y':\n",
        "  data = int(input('Enter value:'))\n",
        "  myList.append(data)\n",
        "  ch = input('Do you insert more value? Please write \"y\" otherwise write any key from keyboard:')\n",
        "\n",
        "myResults = []\n",
        "\n",
        "for D in myList:\n",
        "  Q = math.sqrt((2 * C * D)/ H )\n",
        "  myResults.append(round(Q))\n",
        "\n",
        "\n",
        "print(myResults)\n",
        "\n",
        "\n",
        "\n"
      ],
      "execution_count": 26,
      "outputs": [
        {
          "output_type": "stream",
          "name": "stdout",
          "text": [
            "Enter value:100\n",
            "Do you insert more value? Please write \"y\" otherwise write any key from keyboard:y\n",
            "Enter value:150\n",
            "Do you insert more value? Please write \"y\" otherwise write any key from keyboard:y\n",
            "Enter value:180\n",
            "Do you insert more value? Please write \"y\" otherwise write any key from keyboard:n\n",
            "[18, 22, 24]\n"
          ]
        }
      ]
    },
    {
      "cell_type": "markdown",
      "metadata": {
        "id": "jdbH5CBs7ci8"
      },
      "source": [
        "### Question 3"
      ]
    },
    {
      "cell_type": "markdown",
      "metadata": {
        "id": "ZhAVsf267ci9"
      },
      "source": [
        "Provide python codes that will find all the numbers between 1000 and 3000 such that each digit of the number is an even number.\n",
        "The obtained numbers should be printed in a comma-separated sequence on a single line.\n",
        "\n",
        "In case of input data being supplied to the question, it should be assumed to be a console input."
      ]
    },
    {
      "cell_type": "markdown",
      "source": [
        "### Solution 3:"
      ],
      "metadata": {
        "id": "7CKgvdR0_Sud"
      }
    },
    {
      "cell_type": "code",
      "metadata": {
        "id": "F5inedMz7ci-",
        "colab": {
          "base_uri": "https://localhost:8080/"
        },
        "outputId": "779d4cab-aee2-403d-f82d-0bd00f89eee8"
      },
      "source": [
        "# for a given list \"myList\" print(','.join(myList)) prints out the values in myList in comma-separated manner\n",
        "myResults = []\n",
        "startValue = 1000\n",
        "endValue = 3000\n",
        "\n",
        "ch = input('Would you like to enter new values?\\nPlease enter \"y\",\\nOtherwise enter any key from keyboard for default values [1000,3000]: ')\n",
        "\n",
        "if ch == 'y':\n",
        "  startValue = int(input('Enter starting value:'))\n",
        "  endValue = int(input('Enter ending value:'))\n",
        "\n",
        "\n",
        "for number in range(startValue, endValue + 1):\n",
        "  numberSplit = [int(digit) for digit in str(number)]\n",
        "  even = True\n",
        "  for i in range(0,len(numberSplit)):\n",
        "    if numberSplit[i] % 2 != 0:\n",
        "      even = False\n",
        "  if even == True:\n",
        "    myResults.append(number)\n",
        "\n",
        "print(myResults)\n"
      ],
      "execution_count": 33,
      "outputs": [
        {
          "output_type": "stream",
          "name": "stdout",
          "text": [
            "Would you like to enter new values?\n",
            "Please enter \"y\",\n",
            "Otherwise enter any key from keyboard for default values [1000,3000]: n\n",
            "[2000, 2002, 2004, 2006, 2008, 2020, 2022, 2024, 2026, 2028, 2040, 2042, 2044, 2046, 2048, 2060, 2062, 2064, 2066, 2068, 2080, 2082, 2084, 2086, 2088, 2200, 2202, 2204, 2206, 2208, 2220, 2222, 2224, 2226, 2228, 2240, 2242, 2244, 2246, 2248, 2260, 2262, 2264, 2266, 2268, 2280, 2282, 2284, 2286, 2288, 2400, 2402, 2404, 2406, 2408, 2420, 2422, 2424, 2426, 2428, 2440, 2442, 2444, 2446, 2448, 2460, 2462, 2464, 2466, 2468, 2480, 2482, 2484, 2486, 2488, 2600, 2602, 2604, 2606, 2608, 2620, 2622, 2624, 2626, 2628, 2640, 2642, 2644, 2646, 2648, 2660, 2662, 2664, 2666, 2668, 2680, 2682, 2684, 2686, 2688, 2800, 2802, 2804, 2806, 2808, 2820, 2822, 2824, 2826, 2828, 2840, 2842, 2844, 2846, 2848, 2860, 2862, 2864, 2866, 2868, 2880, 2882, 2884, 2886, 2888]\n"
          ]
        }
      ]
    },
    {
      "cell_type": "markdown",
      "metadata": {
        "id": "wVcMRNN_7cjB"
      },
      "source": [
        "### Question 4"
      ]
    },
    {
      "cell_type": "markdown",
      "metadata": {
        "id": "VOI5Mfpl7cjC"
      },
      "source": [
        "Provide python codes that accepts a string from console and print the characters that have even indexes.\n",
        "\n",
        "Example:\n",
        "If the following string is given as input to the program:\n",
        "\n",
        "H0e1l4l2o8w9o9r8l9d\n",
        "\n",
        "Then, the output should be:\n",
        "\n",
        "Helloworld\n",
        "\n",
        "Hints:\n",
        "Use list[::2] to iterate a list by step 2."
      ]
    },
    {
      "cell_type": "markdown",
      "source": [
        "### Solution 4:"
      ],
      "metadata": {
        "id": "gJdWwyNu_XJ0"
      }
    },
    {
      "cell_type": "code",
      "metadata": {
        "id": "tsOMVy1y7cjE",
        "colab": {
          "base_uri": "https://localhost:8080/"
        },
        "outputId": "f3a2f519-33f9-4380-fe1d-e0b10c4a0628"
      },
      "source": [
        "stringValue = input('Enter a string:')\n",
        "myResults = []\n",
        "\n",
        "for i in range(0, len(stringValue), 2):\n",
        "  myResults.append(stringValue[i])\n",
        "\n",
        "print(''.join(myResults))\n",
        "\n",
        "# OR\n",
        "\n",
        "print(stringValue[::2])\n"
      ],
      "execution_count": 40,
      "outputs": [
        {
          "output_type": "stream",
          "name": "stdout",
          "text": [
            "Enter a string:H0e1l4l2o8w9o9r8l9d\n",
            "Helloworld\n",
            "Helloworld\n"
          ]
        }
      ]
    }
  ]
}