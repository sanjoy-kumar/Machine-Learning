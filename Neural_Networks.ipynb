{
  "nbformat": 4,
  "nbformat_minor": 0,
  "metadata": {
    "colab": {
      "name": "Neural-Networks.ipynb",
      "provenance": [],
      "collapsed_sections": [],
      "authorship_tag": "ABX9TyME6ubGgCz2p7vZ+7AFu7em",
      "include_colab_link": true
    },
    "kernelspec": {
      "display_name": "Python 3",
      "name": "python3"
    },
    "language_info": {
      "name": "python"
    }
  },
  "cells": [
    {
      "cell_type": "markdown",
      "metadata": {
        "id": "view-in-github",
        "colab_type": "text"
      },
      "source": [
        "<a href=\"https://colab.research.google.com/github/sanjoy-kumar/Machine-Learning/blob/main/Neural_Networks.ipynb\" target=\"_parent\"><img src=\"https://colab.research.google.com/assets/colab-badge.svg\" alt=\"Open In Colab\"/></a>"
      ]
    },
    {
      "cell_type": "markdown",
      "metadata": {
        "id": "U68MfipJ94EY"
      },
      "source": [
        "**Importing Required Liabraies**\n"
      ]
    },
    {
      "cell_type": "code",
      "metadata": {
        "id": "stbvv3IV907e"
      },
      "source": [
        "import random\n",
        "import numpy as np\n",
        "import pandas as pd\n",
        "import tensorflow as tf\n",
        "import matplotlib.pyplot as plt\n",
        "from sklearn import metrics\n",
        "from math import sqrt\n",
        "from sklearn.utils import shuffle\n",
        "from sklearn.model_selection import cross_val_score,train_test_split\n",
        "from tensorflow import keras\n",
        "from tensorflow.keras import layers\n",
        "from tensorflow.keras.layers.experimental import preprocessing"
      ],
      "execution_count": null,
      "outputs": []
    },
    {
      "cell_type": "markdown",
      "metadata": {
        "id": "CS03NY4yOfYX"
      },
      "source": [
        "**Create Random Number**\n",
        "\n",
        "Q1. Answer\n"
      ]
    },
    {
      "cell_type": "code",
      "metadata": {
        "id": "Ue0oza01Hm8F"
      },
      "source": [
        "def randomNumber(sampleNumber):\n",
        "    x = []\n",
        "    y = []\n",
        "\n",
        "    for i in range(sampleNumber):\n",
        "        xi = random.uniform(-1,1)\n",
        "        yi = 0.2*np.power(xi,4)+ 2*np.power(xi,3)+ 0.1*np.power(xi,2)+10\n",
        "        x.append(xi)\n",
        "        y.append(yi)\n",
        "    return x,y\n"
      ],
      "execution_count": null,
      "outputs": []
    },
    {
      "cell_type": "markdown",
      "metadata": {
        "id": "yUyTCvBPHbfV"
      },
      "source": [
        "**Shuffling Data**\n",
        "\n",
        "Q2. Answer"
      ]
    },
    {
      "cell_type": "code",
      "metadata": {
        "id": "i7H6O-hgHiM9"
      },
      "source": [
        "def shufflingData(x,y,isShuffled):\n",
        "    X = x\n",
        "    Y = y\n",
        "    if isShuffled == '1':\n",
        "        X,Y = shuffle(X,Y,random_state = 0)\n",
        "        isShuffled = 'Shuffled'\n",
        "    else:\n",
        "        isShuffled = 'Un-shuffled'\n",
        "    return X,Y,isShuffled"
      ],
      "execution_count": null,
      "outputs": []
    },
    {
      "cell_type": "markdown",
      "metadata": {
        "id": "60H-F1vdOisi"
      },
      "source": [
        "**Spliting Data for Training, Validation and Testing**\n",
        "\n",
        "Q3. Answer\n"
      ]
    },
    {
      "cell_type": "code",
      "metadata": {
        "id": "q-UH7HT6Oj8c"
      },
      "source": [
        "def splitData(x,y,testRatio): \n",
        "    xTrain,xTest,yTrain,yTest = train_test_split(x, y, test_size= 1 - testRatio)\n",
        "    return xTrain,xTest,yTrain,yTest"
      ],
      "execution_count": null,
      "outputs": []
    },
    {
      "cell_type": "markdown",
      "metadata": {
        "id": "J4GRBgxidfu9"
      },
      "source": [
        "**Scale 0 to 1**\n",
        "\n",
        "Q4. Answer"
      ]
    },
    {
      "cell_type": "code",
      "metadata": {
        "id": "RURgNdZZdgjZ"
      },
      "source": [
        "def normalize(value, min, max):\n",
        "    normalized = (value - min) / (max - min)\n",
        "    return normalized"
      ],
      "execution_count": null,
      "outputs": []
    },
    {
      "cell_type": "markdown",
      "metadata": {
        "id": "56d_oYBSj6h-"
      },
      "source": [
        "**Regression Model Accuracy (MAE, MSE, RMSE, R-squared) Check**\n",
        "\n",
        "Q5. Answer"
      ]
    },
    {
      "cell_type": "code",
      "metadata": {
        "id": "fsntZ4D2j7gZ"
      },
      "source": [
        "# true: Array of true target variable\n",
        "# pred: Array of predictions\n",
        "\n",
        "def evaluteError(true,pred):\n",
        "    diff = true - pred\n",
        "    meanValue = np.mean(true)\n",
        "    mseT = np.sum(diff**2)\n",
        "    maeT = np.sum(np.abs(diff))\n",
        "    rmseT = np.sqrt(mseT)\n",
        "    r2T = 1 - (np.sum(diff**2)/np.sum(true - meanValue)**2)\n",
        "    mse = mseT/len(true)\n",
        "    mae = maeT/len(true)\n",
        "    rmse = rmseT/len(true)\n",
        "    r2 = r2T/len(true)\n",
        "\n",
        "    return mae,mse,rmse,r2"
      ],
      "execution_count": null,
      "outputs": []
    },
    {
      "cell_type": "markdown",
      "metadata": {
        "id": "fZMnnupIqgTW"
      },
      "source": [
        "**Structure 1:** \n",
        "\n",
        "3 hidden layer Dense (12, 8 and 4 Units) Neural Networks\n",
        "\n",
        "\n",
        "\n"
      ]
    },
    {
      "cell_type": "code",
      "metadata": {
        "id": "UmKO_bLdkVkg"
      },
      "source": [
        "# Structure 1: FCL (12,8 and 4 units) => three hidden layers\n",
        "\n",
        "def build_and_compile_model_1(norm,activationMethod):\n",
        "    model = keras.Sequential([\n",
        "      norm,\n",
        "      layers.Dense(12, activation=activationMethod),\n",
        "      layers.Dense(8, activation=activationMethod),\n",
        "      layers.Dense(4, activation=activationMethod),\n",
        "      layers.Dense(1)])\n",
        "    model.compile(loss='mse', optimizer='adam', metrics=['mse', 'mae'])\n",
        "    return model"
      ],
      "execution_count": null,
      "outputs": []
    },
    {
      "cell_type": "markdown",
      "metadata": {
        "id": "lHAFb7zZkUCj"
      },
      "source": [
        "**Structure 2:**\n",
        "\n",
        "One hidden layer Dense (24 Units) Neural Networks\n",
        "\n"
      ]
    },
    {
      "cell_type": "code",
      "metadata": {
        "id": "sXDvBN8NkUmx"
      },
      "source": [
        "# Structure 2: FCL (24 units ) => one hidden layer\n",
        "\n",
        "def build_and_compile_model_2(norm,activationMethod):\n",
        "    model = keras.Sequential([\n",
        "      norm,\n",
        "      layers.Dense(24, activation=activationMethod),\n",
        "      layers.Dense(1)])\n",
        "    model.compile(loss='mse', optimizer='adam', metrics=['mse', 'mae'])\n",
        "    return model"
      ],
      "execution_count": null,
      "outputs": []
    },
    {
      "cell_type": "markdown",
      "metadata": {
        "id": "G9ZBLvr-Wkwf"
      },
      "source": [
        "**Main Function**"
      ]
    },
    {
      "cell_type": "code",
      "metadata": {
        "colab": {
          "base_uri": "https://localhost:8080/",
          "height": 953
        },
        "id": "FengDGzRWlaP",
        "outputId": "338c3890-6ce1-41a2-86d2-7f1a38fbc669"
      },
      "source": [
        "# -------------------------Input collection from user------------------------------\n",
        "# Edit '1' for shuffling data and '2' for un-shuffling data.\n",
        "# Edit '1' for scaling data and '2' for un-scaling data.\n",
        "# Edit 'relu' for activation function relu and 'tanh' for activation function tanh\n",
        "# Edit '1' for structure-1 and '2' for structure-2.\n",
        "\n",
        "isShuffled = '2'\n",
        "isScaled = '2'\n",
        "activationMethod = 'relu'\n",
        "structureSelect = '1'\n",
        "\n",
        "\n",
        "# -----------------------Random number generation---------------------------------\n",
        "N = 30000\n",
        "X,Y=randomNumber(N)\n",
        "\n",
        "# --------------Initial plot of the random numbers(30000) X vs Y ----------------\n",
        "\n",
        "plt.scatter(X,Y,label='Initial plot')\n",
        "plt.title(\"X vs Y\")\n",
        "plt.xlabel(\"X-axis\")\n",
        "plt.ylabel(\"Y-axis\")\n",
        "plt.legend()\n",
        "plt.show()\n",
        "\n",
        "#--------------- Data shuffling or un-shuffling -----------------------------\n",
        "\n",
        "X,Y,isShuffled = shufflingData(X,Y,isShuffled)\n",
        "\n",
        "# -------------- Data Scaling or un-scaling-------------------------------\n",
        "\n",
        "if isScaled == '1':\n",
        "    # Scale x value 0 to 1\n",
        "    minX= min(X)\n",
        "    maxX= max(X)\n",
        "    X_new = normalize(np.array(X),minX,maxX) \n",
        "    # Scale y value 0 to 1\n",
        "    minY= min(Y)\n",
        "    maxY= max(Y)\n",
        "    Y_new = normalize(np.array(Y),minY,maxY)\n",
        "    isScaled = 'Scaled'\n",
        "else:\n",
        "    X_new = X\n",
        "    Y_new = Y\n",
        "    isScaled = 'Un-Scaled'\n",
        "\n",
        "# ---------------------- Spliting Data---------------------\n",
        "testRatio = 0.5\n",
        "xTrain,xTest,yTrain,yTest = splitData(X_new,Y_new,testRatio)\n",
        "xTrain = np.array(xTrain)\n",
        "yTrain = np.array(yTrain)\n",
        "xTest  = np.array(xTest)\n",
        "yTest  = np.array(yTest)\n",
        "\n",
        "\n",
        "label1 = isShuffled + ' and ' + isScaled\n",
        "\n",
        "# ------------------------ xTest vs yTest-----------------\n",
        "\n",
        "plt.scatter(xTest,yTest,label= label1)\n",
        "plt.title(\"xTest vs yTest\")\n",
        "plt.xlabel(\"X - Test\")\n",
        "plt.ylabel(\"Y - Test\")\n",
        "plt.legend()\n",
        "plt.show()\n",
        "\n",
        "X_ = np.array(X)\n",
        "X_normalizer = preprocessing.Normalization(input_shape=[1,])\n",
        "X_normalizer.adapt(X_)\n",
        "\n",
        "# --------------------Build and Compile Model ---------------------------  \n",
        "\n",
        "if structureSelect == '1':\n",
        "    model = build_and_compile_model_1(X_normalizer,activationMethod)\n",
        "elif structureSelect == '2':\n",
        "    model = build_and_compile_model_2(X_normalizer,activationMethod)\n",
        "else:\n",
        "    print(\"Sorry!!! Please select correct structure or model.\")\n",
        "\n",
        "# validation data(6000) is 40 % of Train Data (15,000) equivalent to 20% of Actual Data(30,000)\n",
        "\n",
        "history = model.fit(xTrain,yTrain,epochs=20,batch_size=12,verbose=0,validation_split = 0.4) \n",
        "yPredict = model.predict(xTest)\n",
        "\n",
        "\n",
        "# -------------- xTest vs yPredict------------------------------------\n",
        "\n",
        "label2 = \"Structure - \" + structureSelect + \" and \" + activationMethod\n",
        "label3 = label1 + \" (xTest vs yPredict)\"\n",
        "plt.scatter(xTest,yPredict,label=label2)\n",
        "plt.title(label3)\n",
        "plt.xlabel(\"X - Test\")\n",
        "plt.ylabel(\"Y - Predict\")\n",
        "plt.legend()\n",
        "plt.show()\n",
        "\n",
        "# ---------------------model evaluation for testing set--------------------------\n",
        "\n",
        "mae = metrics.mean_absolute_error(yTest, yPredict)\n",
        "mse = metrics.mean_squared_error(yTest, yPredict)\n",
        "rmse = sqrt(mse)\n",
        "r2 = metrics.r2_score(yTest, yPredict)\n",
        "\n",
        "print(\"The model performance for testing set\")\n",
        "print(\"--------------------------------------\")\n",
        "print('MAE is {}'.format(mae))\n",
        "print('MSE is {}'.format(mse))\n",
        "print('RMSE is {}'.format(rmse))\n",
        "print('R2 score is {}'.format(r2))\n",
        "\n",
        "\n",
        "\n"
      ],
      "execution_count": null,
      "outputs": [
        {
          "output_type": "display_data",
          "data": {
            "image/png": "[encoded data removed]",
            "text/plain": [
              "<Figure size 432x288 with 1 Axes>"
            ]
          },
          "metadata": {
            "tags": [],
            "needs_background": "light"
          }
        },
        {
          "output_type": "display_data",
          "data": {
            "image/png": "[encoded data removed]",
            "text/plain": [
              "<Figure size 432x288 with 1 Axes>"
            ]
          },
          "metadata": {
            "tags": [],
            "needs_background": "light"
          }
        },
        {
          "output_type": "display_data",
          "data": {
            "image/png": "[encoded data removed]",
            "text/plain": [
              "<Figure size 432x288 with 1 Axes>"
            ]
          },
          "metadata": {
            "tags": [],
            "needs_background": "light"
          }
        },
        {
          "output_type": "stream",
          "text": [
            "The model performance for testing set\n",
            "--------------------------------------\n",
            "MAE is 0.0435230639336806\n",
            "MSE is 0.002638908084610385\n",
            "RMSE is 0.05137030352850161\n",
            "R2 score is 0.995434048539629\n"
          ],
          "name": "stdout"
        }
      ]
    }
  ]
}