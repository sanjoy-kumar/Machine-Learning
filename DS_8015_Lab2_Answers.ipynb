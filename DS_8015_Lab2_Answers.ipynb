{
  "nbformat": 4,
  "nbformat_minor": 0,
  "metadata": {
    "@webio": {
      "lastCommId": null,
      "lastKernelId": null
    },
    "colab": {
      "name": "DS-8015-Lab2-Answers.ipynb",
      "provenance": [],
      "collapsed_sections": [],
      "include_colab_link": true
    },
    "kernelspec": {
      "display_name": "Python 3",
      "language": "python",
      "name": "python3"
    },
    "language_info": {
      "codemirror_mode": {
        "name": "ipython",
        "version": 3
      },
      "file_extension": ".py",
      "mimetype": "text/x-python",
      "name": "python",
      "nbconvert_exporter": "python",
      "pygments_lexer": "ipython3",
      "version": "3.5.0"
    }
  },
  "cells": [
    {
      "cell_type": "markdown",
      "metadata": {
        "id": "view-in-github",
        "colab_type": "text"
      },
      "source": [
        "<a href=\"https://colab.research.google.com/github/sanjoy-kumar/Machine-Learning/blob/main/DS_8015_Lab2_Answers.ipynb\" target=\"_parent\"><img src=\"https://colab.research.google.com/assets/colab-badge.svg\" alt=\"Open In Colab\"/></a>"
      ]
    },
    {
      "cell_type": "markdown",
      "metadata": {
        "id": "ZQ-tHjsZ7uCa"
      },
      "source": [
        "# Lab 2 Solutions"
      ]
    },
    {
      "cell_type": "markdown",
      "metadata": {
        "id": "miOhrnrV7uCc"
      },
      "source": [
        "### Question 1"
      ]
    },
    {
      "cell_type": "markdown",
      "metadata": {
        "id": "t9z_3Lgz7uCe"
      },
      "source": [
        "Provide a python program that takes 2 digits, (e.g. A,B) as input and returns a 2-dimensional array. The element value in the i-th row and j-th column of the array should be $i*j$.\n",
        "\n",
        "Note: $i=0,1,...,A-1;\\ j=0,1,...,B-1.$\n",
        "\n",
        "Example: Assume following inputs are given to the program:\n",
        "\n",
        "$3,5$\n",
        "\n",
        "Then, the output should be:\n",
        "\n",
        "$[[0, 0, 0, 0, 0], [0, 1, 2, 3, 4], [0, 2, 4, 6, 8]]$"
      ]
    },
    {
      "cell_type": "markdown",
      "source": [
        "### Solution:"
      ],
      "metadata": {
        "id": "fDONjOuxHbrk"
      }
    },
    {
      "cell_type": "code",
      "metadata": {
        "id": "YtXXEMOA7uCg",
        "colab": {
          "base_uri": "https://localhost:8080/"
        },
        "outputId": "cbb45483-8d4f-40bd-9f44-4b38fafef521"
      },
      "source": [
        "value = input(\"Enter 2 digit with comma separator:\");\n",
        "inputValue = value.split(\",\");\n",
        "arr = []\n",
        "\n",
        "for i in range(int(inputValue[0])):\n",
        "  arrb = []\n",
        "  for j in range(int(inputValue[1])):\n",
        "    arrb.append(i*j)\n",
        "  arr.append(arrb)\n",
        "print(arr)"
      ],
      "execution_count": null,
      "outputs": [
        {
          "output_type": "stream",
          "name": "stdout",
          "text": [
            "Enter 2 digit with comma separator:3,5\n",
            "[[0, 0, 0, 0, 0], [0, 1, 2, 3, 4], [0, 2, 4, 6, 8]]\n"
          ]
        }
      ]
    },
    {
      "cell_type": "markdown",
      "metadata": {
        "id": "yK-nfqXfEJ9v"
      },
      "source": [
        "### Question 2"
      ]
    },
    {
      "cell_type": "markdown",
      "metadata": {
        "id": "IkK4nTXiEJ9v"
      },
      "source": [
        "Given a dictionary, provide a python program that gets all the values from the dictionary and add it in a list but does not  add duplicates."
      ]
    },
    {
      "cell_type": "markdown",
      "source": [
        "### Solution:\n"
      ],
      "metadata": {
        "id": "oLROL2sVHirt"
      }
    },
    {
      "cell_type": "code",
      "metadata": {
        "id": "PPa61r-2EJ9w",
        "colab": {
          "base_uri": "https://localhost:8080/"
        },
        "outputId": "00c80482-d829-4ade-bf26-035b07fd5874"
      },
      "source": [
        "ages  ={'john':47, 'faye':52, 'mark':47, 'april':44, 'may':52, 'jane':53, 'july':54, 'jim':44, 'sam':54}\n",
        "# expected return value [53, 47, 54, 52, 44]\n",
        "\n",
        "# mylist = list(set(mylist))\n",
        "\n",
        "values = []\n",
        "\n",
        "for i in ages:\n",
        "  if ages[i] not in values:\n",
        "    values.append(ages[i])\n",
        "\n",
        "print(values);"
      ],
      "execution_count": null,
      "outputs": [
        {
          "output_type": "stream",
          "name": "stdout",
          "text": [
            "[47, 52, 44, 53, 54]\n"
          ]
        }
      ]
    },
    {
      "cell_type": "markdown",
      "metadata": {
        "id": "PucSRqlCEJ9w"
      },
      "source": [
        "### Question 3"
      ]
    },
    {
      "cell_type": "markdown",
      "metadata": {
        "id": "5Xv2Bqe1EJ9x"
      },
      "source": [
        "Provide a function which can generate and print a tuple where the printed values are squares of numbers between provided two (integer) argument values (both included).\n",
        "\n",
        "E.g. output of printTuple(1,10) would be (1, 4, 9, 16, 25, 36, 49, 64, 81,100)\n",
        "\n",
        "Hint: \n",
        "\n",
        "Use tuple() to get a tuple from a list."
      ]
    },
    {
      "cell_type": "markdown",
      "source": [
        "### Solution:"
      ],
      "metadata": {
        "id": "L2087bwaHlyl"
      }
    },
    {
      "cell_type": "code",
      "metadata": {
        "id": "L1_UjE0vEJ9y",
        "colab": {
          "base_uri": "https://localhost:8080/"
        },
        "outputId": "a5fc9aa9-e6ab-4e30-d1a3-b7a6da92ed0f"
      },
      "source": [
        "def printTuple(giLB, giUB):\n",
        "    # write your code here\n",
        "    i = giLB\n",
        "    result = [i**2 for i in range(giUB + 1)]\n",
        "    return tuple(result)\n",
        "\n",
        "\n",
        "printTuple(1,10)"
      ],
      "execution_count": null,
      "outputs": [
        {
          "output_type": "execute_result",
          "data": {
            "text/plain": [
              "(0, 1, 4, 9, 16, 25, 36, 49, 64, 81, 100)"
            ]
          },
          "metadata": {},
          "execution_count": 31
        }
      ]
    },
    {
      "cell_type": "markdown",
      "metadata": {
        "id": "raAFHc68EJ9y"
      },
      "source": [
        "### Question 4 (Bonus)"
      ]
    },
    {
      "cell_type": "markdown",
      "metadata": {
        "id": "qE6qCYY6EJ91"
      },
      "source": [
        "A robot moves in a plane starting from the original point (0,0). The robot can move toward UP, DOWN, LEFT and RIGHT with a given steps. The trace of robot movement is shown as the following list: \n",
        "\n",
        "my_moves = [\"UP 5\", \"DOWN 3\", \"LEFT 3\", \"RIGHT 2\"]\n",
        "\n",
        "Another trace can be\n",
        "\n",
        "my_moves = [\"LEFT 2\", \"UP 3\", \"DOWN 3\", \"LEFT 2\", \"DOWN 5\"]\n",
        "\n",
        "The numbers after the direction are steps. Provide a function with name get_distance_traveled that takes the list of movements as an argument and returns the distance from current position after a sequence of movements.\n",
        "\n",
        "Hint: print(get_distance_traveled(my_moves)) prints out 2.24"
      ]
    },
    {
      "cell_type": "markdown",
      "source": [
        "### Solution:\n"
      ],
      "metadata": {
        "id": "-8ByQ4CEHosk"
      }
    },
    {
      "cell_type": "code",
      "metadata": {
        "id": "eh6PHNQ6EJ92",
        "colab": {
          "base_uri": "https://localhost:8080/"
        },
        "outputId": "452fdf01-b814-405a-fd64-177006776fbf"
      },
      "source": [
        "import math\n",
        "def get_distance_traveled(my_moves):\n",
        "  x = 0\n",
        "  y = 0 \n",
        "  for i in my_moves:    \n",
        "    inputValue = i.split(\" \")\n",
        "    if (inputValue[0] == \"UP\"):\n",
        "      y += int(inputValue[1])\n",
        "    elif (inputValue[0] == \"DOWN\"):\n",
        "      y -= int(inputValue[1])\n",
        "    elif (inputValue[0] == \"LEFT\"):\n",
        "      x -= int(inputValue[1])\n",
        "    elif (inputValue[0] == \"RIGHT\"):\n",
        "      x += int(inputValue[1])\n",
        "  \n",
        "  my_formatter = \"{0:.2f}\"\n",
        "  result = math.sqrt( x**2 + y**2)\n",
        "  output = my_formatter.format(result)\n",
        "  return output\n",
        "\n",
        "\n",
        "\n",
        "my_moves = [\"UP 5\", \"DOWN 3\", \"LEFT 3\", \"RIGHT 2\"]\n",
        "#my_moves = [\"LEFT 2\", \"UP 3\", \"DOWN 3\", \"LEFT 2\", \"DOWN 5\"]\n",
        "print(get_distance_traveled(my_moves)) "
      ],
      "execution_count": null,
      "outputs": [
        {
          "output_type": "stream",
          "name": "stdout",
          "text": [
            "2.24\n"
          ]
        }
      ]
    }
  ]
}