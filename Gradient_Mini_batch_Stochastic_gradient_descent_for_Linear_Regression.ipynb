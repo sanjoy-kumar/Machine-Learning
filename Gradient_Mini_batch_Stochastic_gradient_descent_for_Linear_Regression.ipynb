{
  "nbformat": 4,
  "nbformat_minor": 0,
  "metadata": {
    "colab": {
      "name": "Gradient-Mini batch-Stochastic gradient descent-for-Linear-Regression.ipynb",
      "provenance": [],
      "collapsed_sections": [],
      "authorship_tag": "ABX9TyOkFT0P1UmwrfmfC+7dAQCS",
      "include_colab_link": true
    },
    "kernelspec": {
      "name": "python3",
      "display_name": "Python 3"
    },
    "language_info": {
      "name": "python"
    }
  },
  "cells": [
    {
      "cell_type": "markdown",
      "metadata": {
        "id": "view-in-github",
        "colab_type": "text"
      },
      "source": [
        "<a href=\"https://colab.research.google.com/github/sanjoy-kumar/Machine-Learning/blob/main/Gradient_Mini_batch_Stochastic_gradient_descent_for_Linear_Regression.ipynb\" target=\"_parent\"><img src=\"https://colab.research.google.com/assets/colab-badge.svg\" alt=\"Open In Colab\"/></a>"
      ]
    },
    {
      "cell_type": "markdown",
      "metadata": {
        "id": "NVLr5ppMWGgR"
      },
      "source": [
        "**Importing Required Liabaries**"
      ]
    },
    {
      "cell_type": "code",
      "metadata": {
        "id": "D63EILZmUvA7"
      },
      "source": [
        "import matplotlib.pyplot as plt\n",
        "import numpy as np\n",
        "import pandas as pd"
      ],
      "execution_count": 25,
      "outputs": []
    },
    {
      "cell_type": "markdown",
      "metadata": {
        "id": "Pg96N94WU4eq"
      },
      "source": [
        "**Data Processing**"
      ]
    },
    {
      "cell_type": "code",
      "metadata": {
        "id": "iWPmyYewU5Mw"
      },
      "source": [
        "height=[167,145,170,180,189,155,163,178,173,176]\n",
        "weight=[83.5,72.5,85,90,94.5,77.5,81.5,89,86.5,88]\n",
        "data=pd.DataFrame(list(zip(height,weight)),columns=[\"height\",\"weight\"])\n",
        "x=data[\"height\"]\n",
        "y=data[\"weight\"]"
      ],
      "execution_count": 26,
      "outputs": []
    },
    {
      "cell_type": "markdown",
      "metadata": {
        "id": "wULT1wb6VFOq"
      },
      "source": [
        "**cost function**"
      ]
    },
    {
      "cell_type": "code",
      "metadata": {
        "id": "YrdAjh2-VGGk"
      },
      "source": [
        "#cost function \n",
        "def single_point_cost(x,y,w):   \n",
        "    y_pred= w * x\n",
        "    cost=( y_pred - y) **2  #linear regression\n",
        "    return cost"
      ],
      "execution_count": 27,
      "outputs": []
    },
    {
      "cell_type": "markdown",
      "metadata": {
        "id": "ybIa-ixeVQl7"
      },
      "source": [
        "**grad function**"
      ]
    },
    {
      "cell_type": "code",
      "metadata": {
        "id": "_XzIXlOwVRcr"
      },
      "source": [
        "#grad function\n",
        "def grad(x,y,w,):\n",
        "    grad_w=2 * x * ((w * x) - y ) # derevative with respect to x\n",
        "    return grad_w"
      ],
      "execution_count": 28,
      "outputs": []
    },
    {
      "cell_type": "markdown",
      "metadata": {
        "id": "mAHP4q9YZ9Lv"
      },
      "source": [
        "**Batch gradient descent or regular gradient descent**"
      ]
    },
    {
      "cell_type": "code",
      "metadata": {
        "id": "LGbBsf1JZ93A"
      },
      "source": [
        "w=0 # here we have  only one parameter\n",
        "gamma=0.000001 #learning rate\n",
        "all_costs=[]\n",
        "for k in range(60):\n",
        "    cost=0\n",
        "    grad_w=0\n",
        "    for i in range(len(x)):\n",
        "        a=single_point_cost(x[i],y[i],w)\n",
        "        cost+=a\n",
        "        b=grad(x[i],y[i],w)\n",
        "        grad_w+=b\n",
        "    \n",
        "    cost1=cost/len(x)  #average cost\n",
        "    all_costs.append(cost1)         \n",
        "    grad_w1=grad_w/len(x)  #avearge grad\n",
        "    w= w -  (gamma * grad_w1)  # in batch gradient descent update happens only one time"
      ],
      "execution_count": 29,
      "outputs": []
    },
    {
      "cell_type": "markdown",
      "metadata": {
        "id": "AP8S7Yx0ZzTS"
      },
      "source": [
        "**Stochastic gradient descent**"
      ]
    },
    {
      "cell_type": "code",
      "metadata": {
        "id": "3amtGz9SZ0Gy"
      },
      "source": [
        "all_costs23=[]\n",
        "w=0\n",
        "gamma=0.000001\n",
        "for k in range(60):\n",
        "    for i in range(len(x)):\n",
        "        cost21=single_point_cost(x[i],y[i],w)\n",
        "        grad_w21=grad(x[i],y[i],w)\n",
        "        w= w- (gamma * grad_w21) # in sgd update takes place after every point\n",
        "    all_costs23.append(cost21)"
      ],
      "execution_count": 30,
      "outputs": []
    },
    {
      "cell_type": "markdown",
      "metadata": {
        "id": "pKf86M6mVZnv"
      },
      "source": [
        "**Mini batch gradient descent**"
      ]
    },
    {
      "cell_type": "code",
      "metadata": {
        "id": "XESSUYq2VbBJ"
      },
      "source": [
        "# let our batch size = 5\n",
        "#so we will have 2 batches because n=10  and updates will happen 2 times \n",
        "w=0\n",
        "gamma=0.000001\n",
        "batch_size= 5\n",
        "all_costs41=[]\n",
        "for k in range(60):\n",
        "    for j in range(int(len(x)/batch_size)):\n",
        "        cost4=0\n",
        "        for i in range(batch_size):\n",
        "            z1=single_point_cost(x[i],y[i],w)\n",
        "            cost4+=z1\n",
        "        if j==1:\n",
        "            all_costs41.append(cost4/batch_size) #avearge cost of that batch\n",
        "        grad_w41=0\n",
        "        for n in range(batch_size):\n",
        "            f1=grad(x[i],y[i],w)\n",
        "            grad_w41+=f1\n",
        "    \n",
        "        grad_w42=grad_w41/batch_size  #average grad of that function\n",
        "\n",
        "        w= w- (gamma * grad_w42)  # update takes place after every batch\n",
        "    "
      ],
      "execution_count": 31,
      "outputs": []
    },
    {
      "cell_type": "markdown",
      "metadata": {
        "id": "D5apB000V0B8"
      },
      "source": [
        "**Output**"
      ]
    },
    {
      "cell_type": "code",
      "metadata": {
        "colab": {
          "base_uri": "https://localhost:8080/",
          "height": 513
        },
        "id": "cp9N4ueLV8rS",
        "outputId": "cbbaf44e-4181-4af1-a65a-80049fbf39fe"
      },
      "source": [
        "epochs=np.arange(60)\n",
        "plt.figure(figsize=(12,8))\n",
        "plt.plot(epochs,all_costs,c='r',label=\"batch gd\")\n",
        "plt.plot(epochs,all_costs23,c='b',label=\"sgd\")\n",
        "plt.plot(epochs,all_costs41,c='g',label=\"mini batch gd\")\n",
        "plt.title(\"Total Cost vs Iterations\")\n",
        "plt.xlabel(\"Iteration\")\n",
        "plt.ylabel(\"Cost\")\n",
        "plt.legend()\n",
        "plt.show()"
      ],
      "execution_count": 32,
      "outputs": [
        {
          "output_type": "display_data",
          "data": {
            "image/png": "[encoded data removed]",
            "text/plain": [
              "<Figure size 864x576 with 1 Axes>"
            ]
          },
          "metadata": {
            "tags": [],
            "needs_background": "light"
          }
        }
      ]
    }
  ]
}