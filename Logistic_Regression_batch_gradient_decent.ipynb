{
  "nbformat": 4,
  "nbformat_minor": 0,
  "metadata": {
    "colab": {
      "name": "Logistic-Regression-batch-gradient-decent.ipynb",
      "provenance": [],
      "collapsed_sections": [],
      "authorship_tag": "ABX9TyN3X5n89DU+5xpXrs2eUwfa",
      "include_colab_link": true
    },
    "kernelspec": {
      "name": "python3",
      "display_name": "Python 3"
    },
    "language_info": {
      "name": "python"
    }
  },
  "cells": [
    {
      "cell_type": "markdown",
      "metadata": {
        "id": "view-in-github",
        "colab_type": "text"
      },
      "source": [
        "<a href=\"https://colab.research.google.com/github/sanjoy-kumar/Machine-Learning/blob/main/Logistic_Regression_batch_gradient_decent.ipynb\" target=\"_parent\"><img src=\"https://colab.research.google.com/assets/colab-badge.svg\" alt=\"Open In Colab\"/></a>"
      ]
    },
    {
      "cell_type": "markdown",
      "metadata": {
        "id": "QyAzV2eeutbo"
      },
      "source": [
        "\n",
        "**Gadiant Decent for Logistic Regression**\n",
        "-------------------------------------------\n",
        "**Introduction:**\n",
        "\n",
        "Gradient Descent is the process of minimizing a function by following the gradients of the cost function. This involves knowing the form of the cost as well as the derivative so that from a given point you know the gradient and can move in that direction, e.g. downhill towards the minimum value.\n",
        "\n"
      ]
    },
    {
      "cell_type": "markdown",
      "metadata": {
        "id": "8nVELAeRT8kQ"
      },
      "source": [
        "**Implementation Steps:**\n",
        "--------------------------\n"
      ]
    },
    {
      "cell_type": "code",
      "metadata": {
        "id": "pyaDAz1aupvw"
      },
      "source": [
        "#Importing required libraries\n",
        "import pandas as pd\n",
        "import numpy as np\n",
        "import matplotlib.pyplot as plt\n",
        "import math\n",
        "import random\n"
      ],
      "execution_count": 991,
      "outputs": []
    },
    {
      "cell_type": "code",
      "metadata": {
        "colab": {
          "base_uri": "https://localhost:8080/"
        },
        "id": "DrFaN6_9vzie",
        "outputId": "8db0a7c8-0323-4892-aaa5-558418aef957"
      },
      "source": [
        "#loading heart.csv file\n",
        "HeartDF = pd.read_csv('https://raw.githubusercontent.com/tofighi/MachineLearning/master/datasets/heart.csv',index_col=0)\n",
        "X = (HeartDF[['famhist','sbp','tobacco','ldl','adiposity','typea','obesity','alcohol','age']])\n",
        "print(X)"
      ],
      "execution_count": 992,
      "outputs": [
        {
          "output_type": "stream",
          "text": [
            "           famhist  sbp  tobacco    ldl  ...  typea  obesity  alcohol  age\n",
            "row.names                                ...                              \n",
            "1          Present  160    12.00   5.73  ...     49    25.30    97.20   52\n",
            "2           Absent  144     0.01   4.41  ...     55    28.87     2.06   63\n",
            "3          Present  118     0.08   3.48  ...     52    29.14     3.81   46\n",
            "4          Present  170     7.50   6.41  ...     51    31.99    24.26   58\n",
            "5          Present  134    13.60   3.50  ...     60    25.99    57.34   49\n",
            "...            ...  ...      ...    ...  ...    ...      ...      ...  ...\n",
            "459         Absent  214     0.40   5.98  ...     64    28.45     0.00   58\n",
            "460         Absent  182     4.20   4.41  ...     52    28.61    18.72   52\n",
            "461         Absent  108     3.00   1.59  ...     40    20.09    26.64   55\n",
            "462         Absent  118     5.40  11.61  ...     64    27.35    23.97   40\n",
            "463        Present  132     0.00   4.82  ...     62    14.70     0.00   46\n",
            "\n",
            "[462 rows x 9 columns]\n"
          ],
          "name": "stdout"
        }
      ]
    },
    {
      "cell_type": "markdown",
      "metadata": {
        "id": "EDM-7fQBUJf5"
      },
      "source": [
        "**EDA**\n"
      ]
    },
    {
      "cell_type": "markdown",
      "metadata": {
        "id": "0U0ejOaoyHeK"
      },
      "source": [
        "Q1. How much is the percentage each class 0 or 1?"
      ]
    },
    {
      "cell_type": "code",
      "metadata": {
        "colab": {
          "base_uri": "https://localhost:8080/"
        },
        "id": "XFWnd-DEyhFJ",
        "outputId": "674628b2-5861-42b5-e443-a15de98afed2"
      },
      "source": [
        "Y = np.array(HeartDF[['chd']])\n",
        "n = len(Y)\n",
        "chd_zero = 0\n",
        "chd_one = 0\n",
        "garbage =0\n",
        "for i in range(n):\n",
        "  if Y[i] == 0:\n",
        "    chd_zero += 1\n",
        "  elif Y[i] == 1:\n",
        "    chd_one += 1\n",
        "  else:\n",
        "    garbage += 1\n",
        "\n",
        "percentage_of_zero = 0\n",
        "percentage_of_one = 0\n",
        "\n",
        "percentage_of_zero = (chd_zero/n)*100\n",
        "percentage_of_one = (chd_one/n)*100\n",
        "print(\"Percentage of zero(0) in each class is {:.2f}%.\".format(percentage_of_zero))\n",
        "print(\"Percentage of one(1) in each class is {:.2f}%.\".format(percentage_of_one))\n",
        "\n"
      ],
      "execution_count": 993,
      "outputs": [
        {
          "output_type": "stream",
          "text": [
            "Percentage of zero(0) in each class is 65.37%.\n",
            "Percentage of one(1) in each class is 34.63%.\n"
          ],
          "name": "stdout"
        }
      ]
    },
    {
      "cell_type": "markdown",
      "metadata": {
        "id": "ICopbt_96VMh"
      },
      "source": [
        "Q2. How many missing values do we have?"
      ]
    },
    {
      "cell_type": "code",
      "metadata": {
        "colab": {
          "base_uri": "https://localhost:8080/"
        },
        "id": "5U4M_f4k6ZFb",
        "outputId": "d8a79372-961b-4a04-8dda-e20377bcfc34"
      },
      "source": [
        "# ----------------Count total NaN at each column in the DataFrame -------------\n",
        "\n",
        "print(\"\\nCount total NaN(Not a Number) at each column in the DataFrame :\\n\\n\",\n",
        "      HeartDF.isnull().sum())\n",
        "\n",
        "#---------------- Count total NaN in a DataFrame-------------------------------\n",
        "\n",
        "print(\" \\nCount total NaN(Not a Number) in the DataFrame : \\n\\n\",\n",
        "       HeartDF.isnull().sum().sum())"
      ],
      "execution_count": 994,
      "outputs": [
        {
          "output_type": "stream",
          "text": [
            "\n",
            "Count total NaN(Not a Number) at each column in the DataFrame :\n",
            "\n",
            " sbp          0\n",
            "tobacco      0\n",
            "ldl          0\n",
            "adiposity    0\n",
            "famhist      0\n",
            "typea        0\n",
            "obesity      0\n",
            "alcohol      0\n",
            "age          0\n",
            "chd          0\n",
            "dtype: int64\n",
            " \n",
            "Count total NaN(Not a Number) in the DataFrame : \n",
            "\n",
            " 0\n"
          ],
          "name": "stdout"
        }
      ]
    },
    {
      "cell_type": "markdown",
      "metadata": {
        "id": "Uly0UKCf72mF"
      },
      "source": [
        "Q3. How many categorical variables you have in your features?\n",
        "\n",
        "Answer: one categorical variable we have in our features. It is '**famhist**'.\n",
        "\n",
        "Encode(**One-Hot Encoding**) the categorical variable:\n",
        "\n"
      ]
    },
    {
      "cell_type": "code",
      "metadata": {
        "colab": {
          "base_uri": "https://localhost:8080/"
        },
        "id": "VhH5hY6tLSVu",
        "outputId": "ce12c56a-9c0b-47fc-83e5-12bd6a53db1f"
      },
      "source": [
        "HeartDF['famhist']= pd.get_dummies(HeartDF['famhist'])\n",
        "HeartDF.head(10)\n",
        "\n",
        "# ----------------Count total NaN at each column in the DataFrame -------------\n",
        "\n",
        "print(\"\\nCount total NaN(Not a Number) at 'famhist' column after Encoding :\\n\\n\",\n",
        "      HeartDF['famhist'].isnull().sum())\n"
      ],
      "execution_count": 995,
      "outputs": [
        {
          "output_type": "stream",
          "text": [
            "\n",
            "Count total NaN(Not a Number) at 'famhist' column after Encoding :\n",
            "\n",
            " 0\n"
          ],
          "name": "stdout"
        }
      ]
    },
    {
      "cell_type": "markdown",
      "metadata": {
        "id": "jj4Lu4Vc876i"
      },
      "source": [
        "Q4. What features have the maximum corelation?"
      ]
    },
    {
      "cell_type": "code",
      "metadata": {
        "colab": {
          "base_uri": "https://localhost:8080/"
        },
        "id": "NfVtHnEwPVYH",
        "outputId": "eb27c8c0-45fd-4351-f025-e3e8741c981a"
      },
      "source": [
        "\n",
        "print(HeartDF.corr(method ='pearson').abs())\n",
        "#print(HeartDF.corr().abs().unstack().sort_values(ascending=False))\n",
        "\n",
        "def get_redundant_pairs(HeartDF):\n",
        "    '''Get diagonal and lower triangular pairs of correlation matrix'''\n",
        "    pairs_to_drop = set()\n",
        "    cols = HeartDF.columns   \n",
        "    for i in range(0, HeartDF.shape[1]):\n",
        "        for j in range(0, i+1):\n",
        "            pairs_to_drop.add((cols[i], cols[j]))\n",
        "    return pairs_to_drop\n",
        "\n",
        "def get_top_abs_correlations(HeartDF, n=5):\n",
        "    au_corr = HeartDF.corr().abs().unstack()\n",
        "    labels_to_drop = get_redundant_pairs(HeartDF)\n",
        "    au_corr = au_corr.drop(labels=labels_to_drop).sort_values(ascending=False)\n",
        "    return au_corr[0:n]\n",
        "\n",
        "print(\"\\n---\\t --------\\t-----------\")\n",
        "print(\"Top\\t Absolute \\tCorrelations\")\n",
        "print(\"---\\t --------\\t-----------\")\n",
        "print(get_top_abs_correlations(HeartDF, 3))\n",
        "\n"
      ],
      "execution_count": 996,
      "outputs": [
        {
          "output_type": "stream",
          "text": [
            "                sbp   tobacco       ldl  ...   alcohol       age       chd\n",
            "sbp        1.000000  0.212247  0.158296  ...  0.140096  0.388771  0.192354\n",
            "tobacco    0.212247  1.000000  0.158905  ...  0.200813  0.450330  0.299718\n",
            "ldl        0.158296  0.158905  1.000000  ...  0.033403  0.311799  0.263053\n",
            "adiposity  0.356500  0.286640  0.440432  ...  0.100330  0.625954  0.254121\n",
            "famhist    0.085645  0.088601  0.161353  ...  0.080520  0.239667  0.272373\n",
            "typea      0.057454  0.014608  0.044048  ...  0.039498  0.102606  0.103156\n",
            "obesity    0.238067  0.124529  0.330506  ...  0.051620  0.291777  0.100095\n",
            "alcohol    0.140096  0.200813  0.033403  ...  1.000000  0.101125  0.062531\n",
            "age        0.388771  0.450330  0.311799  ...  0.101125  1.000000  0.372973\n",
            "chd        0.192354  0.299718  0.263053  ...  0.062531  0.372973  1.000000\n",
            "\n",
            "[10 rows x 10 columns]\n",
            "\n",
            "---\t --------\t-----------\n",
            "Top\t Absolute \tCorrelations\n",
            "---\t --------\t-----------\n",
            "adiposity  obesity    0.716556\n",
            "           age        0.625954\n",
            "tobacco    age        0.450330\n",
            "dtype: float64\n"
          ],
          "name": "stdout"
        }
      ]
    },
    {
      "cell_type": "markdown",
      "metadata": {
        "id": "XAvYwXDpxXLS"
      },
      "source": [
        "**Standardization:**\n",
        "\n",
        "\n"
      ]
    },
    {
      "cell_type": "code",
      "metadata": {
        "id": "ykgBgeY8xY3O",
        "colab": {
          "base_uri": "https://localhost:8080/"
        },
        "outputId": "d24df4ee-e40e-4bce-a65d-d926b1eca87d"
      },
      "source": [
        "cols_to_Normal = ['sbp','tobacco','ldl','adiposity','typea','obesity','alcohol','age']\n",
        "X_new= X[cols_to_Normal]\n",
        "\n",
        "\n",
        "# apply the z-score method in Pandas using the .mean() and .std() methods\n",
        "\n",
        "def z_score(df):\n",
        "    # copy the dataframe\n",
        "    df_std = df.copy()\n",
        "    # apply the z-score method\n",
        "    for column in df_std.columns:\n",
        "        df_std[column] = (df_std[column] - df_std[column].mean()) / df_std[column].std()        \n",
        "    return df_std\n",
        "    \n",
        "# call the z_score function\n",
        "X_Features_standardized = z_score(X_new)\n",
        "\n",
        "X_Features_standardized['famhist'] = HeartDF['famhist']\n",
        "print(X_Features_standardized)\n"
      ],
      "execution_count": 997,
      "outputs": [
        {
          "output_type": "stream",
          "text": [
            "                sbp   tobacco       ldl  ...   alcohol       age  famhist\n",
            "row.names                                ...                             \n",
            "1          1.057417  1.821099  0.477894  ...  3.274189  0.628654        0\n",
            "2          0.276789 -0.789382 -0.159507  ... -0.612081  1.381617        1\n",
            "3         -0.991731 -0.774141 -0.608585  ... -0.540597  0.217947        0\n",
            "4          1.545310  0.841352  0.806252  ...  0.294742  1.039361        0\n",
            "5         -0.211103  2.169453 -0.598928  ...  1.645991  0.423301        0\n",
            "...             ...       ...       ...  ...       ...       ...      ...\n",
            "459        3.692037 -0.704470  0.598614  ... -0.696228  1.039361        1\n",
            "460        2.130781  0.122871 -0.159507  ...  0.068445  0.628654        1\n",
            "461       -1.479624 -0.138395 -1.521228  ...  0.391960  0.834008        1\n",
            "462       -0.991731  0.384137  3.317227  ...  0.282897 -0.192760        1\n",
            "463       -0.308682 -0.791559  0.038474  ... -0.696228  0.217947        0\n",
            "\n",
            "[462 rows x 9 columns]\n"
          ],
          "name": "stdout"
        }
      ]
    },
    {
      "cell_type": "markdown",
      "metadata": {
        "id": "VxMUpxSDd11_"
      },
      "source": [
        "**Initialization**"
      ]
    },
    {
      "cell_type": "code",
      "metadata": {
        "id": "yxCb1mNbcebW"
      },
      "source": [
        "def initialize_betas(dim):\n",
        "    random.seed(10) \n",
        "    b = random.random()\n",
        "    w = np.random.rand(dim)\n",
        "    return b,w\n",
        "\n",
        "#b,theta = initialize_betas(X_Features_standardized.shape[1])\n",
        "#print(b,theta)"
      ],
      "execution_count": 998,
      "outputs": []
    },
    {
      "cell_type": "markdown",
      "metadata": {
        "id": "0XI2DoVtS3I7"
      },
      "source": [
        "**Hypothesis(Model)**"
      ]
    },
    {
      "cell_type": "code",
      "metadata": {
        "id": "SxKr0RMOS4AZ"
      },
      "source": [
        "def sigmoid(b, w ,X_new):\n",
        "    np_values = X_new.values    \n",
        "    Z = b + np.matmul(np_values,w)\n",
        "    return (1.0 / (1 + np.exp(-Z)))\n",
        "\n",
        "#y_predict = sigmoid(b,theta,X_Features_standardized)\n",
        "#print(y_predict[0:10])\n"
      ],
      "execution_count": 999,
      "outputs": []
    },
    {
      "cell_type": "markdown",
      "metadata": {
        "id": "Bt2dULcSV1CD"
      },
      "source": [
        "**Cost Function**"
      ]
    },
    {
      "cell_type": "code",
      "metadata": {
        "colab": {
          "base_uri": "https://localhost:8080/"
        },
        "id": "mAsefmRXV6Sq",
        "outputId": "c4dea5ae-c478-47f9-9879-106c0b096d18"
      },
      "source": [
        "def get_cost( y, y_hat):\n",
        "    return - np.sum(np.dot(y.T,np.log(1-y_hat)+ np.dot((1-y).T,np.log(1-y_hat)))) / ( len(y))\n",
        "\n",
        "# Reshape Y\n",
        "Y=Y.reshape(len(Y), )\n",
        "#current_cost= get_cost(Y,y_predict)\n",
        "#print(current_cost)\n",
        "Y.shape"
      ],
      "execution_count": 1000,
      "outputs": [
        {
          "output_type": "execute_result",
          "data": {
            "text/plain": [
              "(462,)"
            ]
          },
          "metadata": {
            "tags": []
          },
          "execution_count": 1000
        }
      ]
    },
    {
      "cell_type": "markdown",
      "metadata": {
        "id": "t19Y_2Y7-Nnp"
      },
      "source": [
        "**Updating theta values**\n"
      ]
    },
    {
      "cell_type": "code",
      "metadata": {
        "id": "2TtsyyLq-aEt"
      },
      "source": [
        "def update_beta(b_0,w_0,y,y_hat,X_new,alpha):\n",
        "    db = np.sum( y_hat - y)/ len(y)\n",
        "    b_0 = b_0 - alpha * db\n",
        "    dw = np.dot((y_hat - y), X_new)/ len(y)\n",
        "    w_0 = w_0 - alpha * dw     \n",
        "    return b_0,w_0\n",
        "\n",
        "#alpha = 0.1\n",
        "#b, w = update_beta(b,theta,Y,y_predict,X_Features_standardized,alpha)\n",
        "#b, w"
      ],
      "execution_count": 1001,
      "outputs": []
    },
    {
      "cell_type": "code",
      "metadata": {
        "id": "JH0Bd0pd-tFY"
      },
      "source": [
        ""
      ],
      "execution_count": 1001,
      "outputs": []
    },
    {
      "cell_type": "markdown",
      "metadata": {
        "id": "z9WAPJSJV7Ow"
      },
      "source": [
        "**Batch Gradient Decent Iteration**\n"
      ]
    },
    {
      "cell_type": "code",
      "metadata": {
        "id": "QwU78vzLWPgu"
      },
      "source": [
        "# ---------- Write a code for gradient descent iterations ---------------\n",
        "\n",
        "def gradient_descent_iterations(Y,X_Features_standardized,alph,num_iterations):\n",
        "    all_costs = []\n",
        "    b,w = initialize_betas(X_Features_standardized.shape[1])\n",
        "    print(\"initial guess of b and w: \" , b ,w)\n",
        "    \n",
        "    for each_iter in range (num_iterations):\n",
        "        y_hat = sigmoid(b, w , X_Features_standardized)\n",
        "        current_cost = get_cost (Y, y_hat)\n",
        "        prev_b = b\n",
        "        prev_w = w\n",
        "        b, w = update_beta (prev_b,prev_w,Y,y_hat,X_Features_standardized,alpha)\n",
        "        all_costs.append(current_cost)\n",
        "        \n",
        "        if each_iter % 50 == 0:\n",
        "          print('Iteration:',each_iter, 'Cost:',current_cost)\n",
        "          each_iter += 1\n",
        "    print(\"Final estimates of b and w are: \", b,w)\n",
        "    return all_costs\n"
      ],
      "execution_count": 1002,
      "outputs": []
    },
    {
      "cell_type": "markdown",
      "metadata": {
        "id": "Onck0ZDJ26K6"
      },
      "source": [
        "**Learning Curve**"
      ]
    },
    {
      "cell_type": "markdown",
      "metadata": {
        "id": "K1YltYbEIozK"
      },
      "source": [
        "**Case - 1**\n",
        "\n",
        "alph = 0.001 &\n",
        "iterations = 500"
      ]
    },
    {
      "cell_type": "code",
      "metadata": {
        "colab": {
          "base_uri": "https://localhost:8080/",
          "height": 549
        },
        "id": "bkW5qI8229EX",
        "outputId": "dc44fff8-7a91-4477-d4d8-6e3afd2440d0"
      },
      "source": [
        "alph = 0.001\n",
        "num_iterations = 500\n",
        "\n",
        "all_costs = gradient_descent_iterations(Y,X_Features_standardized,alph,num_iterations)\n",
        "\n",
        "plt.scatter(range(num_iterations),all_costs)\n",
        "plt.xlabel(\"Number of Iterations\")\n",
        "plt.ylabel(\"Total Cost\")\n",
        "plt.title(\"Iteration VS Total Cost\")\n",
        "plt.show()"
      ],
      "execution_count": 1003,
      "outputs": [
        {
          "output_type": "stream",
          "text": [
            "initial guess of b and w:  0.5714025946899135 [0.42030098 0.21190882 0.14155791 0.09045025 0.22296954 0.41541712\n",
            " 0.05465424 0.00609564 0.77520535]\n",
            "Iteration: 0 Cost: 138.10322702786902\n",
            "Iteration: 50 Cost: 51.36630021793702\n",
            "Iteration: 100 Cost: 39.82795202403732\n",
            "Iteration: 150 Cost: 37.36451079889869\n",
            "Iteration: 200 Cost: 36.67751989568757\n",
            "Iteration: 250 Cost: 36.467902184319016\n",
            "Iteration: 300 Cost: 36.413244734087854\n",
            "Iteration: 350 Cost: 36.41531859946197\n",
            "Iteration: 400 Cost: 36.43942986486244\n",
            "Iteration: 450 Cost: 36.471753544558226\n",
            "Final estimates of b and w are:  -0.42453520959941665 [ 0.13065017  0.3595419   0.3685706   0.11070979  0.38650024 -0.23524268\n",
            "  0.01005874  0.68553517 -0.78951039]\n"
          ],
          "name": "stdout"
        },
        {
          "output_type": "display_data",
          "data": {
            "image/png": "[encoded data removed]",
            "text/plain": [
              "<Figure size 432x288 with 1 Axes>"
            ]
          },
          "metadata": {
            "tags": [],
            "needs_background": "light"
          }
        }
      ]
    },
    {
      "cell_type": "markdown",
      "metadata": {
        "id": "jX3yMrW1I4-L"
      },
      "source": [
        "**Case -2**\n",
        "\n",
        "alph = 0.0001 & iterations = 500"
      ]
    },
    {
      "cell_type": "code",
      "metadata": {
        "colab": {
          "base_uri": "https://localhost:8080/",
          "height": 549
        },
        "id": "bkbuxj6iI7JE",
        "outputId": "464349f6-7119-4022-a331-4e85433234c5"
      },
      "source": [
        "alph = 0.0001\n",
        "num_iterations = 500\n",
        "\n",
        "all_costs = gradient_descent_iterations(Y,X_Features_standardized,alph,num_iterations)\n",
        "\n",
        "plt.scatter(range(num_iterations),all_costs)\n",
        "plt.xlabel(\"Number of Iterations\")\n",
        "plt.ylabel(\"Total Cost\")\n",
        "plt.title(\"Iteration VS Total Cost\")\n",
        "plt.show()"
      ],
      "execution_count": 1004,
      "outputs": [
        {
          "output_type": "stream",
          "text": [
            "initial guess of b and w:  0.5714025946899135 [0.89049833 0.29565198 0.40000306 0.92600675 0.39939074 0.49042857\n",
            " 0.06744798 0.5070331  0.71204478]\n",
            "Iteration: 0 Cost: 149.11917790182136\n",
            "Iteration: 50 Cost: 55.04778354221957\n",
            "Iteration: 100 Cost: 39.99050931096057\n",
            "Iteration: 150 Cost: 37.214457365889665\n",
            "Iteration: 200 Cost: 36.52295273884656\n",
            "Iteration: 250 Cost: 36.33995540559641\n",
            "Iteration: 300 Cost: 36.310628938686754\n",
            "Iteration: 350 Cost: 36.333243470770455\n",
            "Iteration: 400 Cost: 36.373546406548705\n",
            "Iteration: 450 Cost: 36.418614643736404\n",
            "Final estimates of b and w are:  -0.4265464841826818 [ 0.13112907  0.36048819  0.3620597   0.18823883  0.39137362 -0.2924277\n",
            "  0.00748165  0.65163415 -0.78735488]\n"
          ],
          "name": "stdout"
        },
        {
          "output_type": "display_data",
          "data": {
            "image/png": "[encoded data removed]",
            "text/plain": [
              "<Figure size 432x288 with 1 Axes>"
            ]
          },
          "metadata": {
            "tags": [],
            "needs_background": "light"
          }
        }
      ]
    },
    {
      "cell_type": "markdown",
      "metadata": {
        "id": "bFjv15yhJiS8"
      },
      "source": [
        "**Case - 3**\n",
        "\n",
        "alpha = 0.001 & iterations = 1000"
      ]
    },
    {
      "cell_type": "code",
      "metadata": {
        "colab": {
          "base_uri": "https://localhost:8080/",
          "height": 731
        },
        "id": "17dQO6U6JqkR",
        "outputId": "3ce2f170-24cd-440a-d53c-84dcc4fbc21e"
      },
      "source": [
        "alph = 0.001\n",
        "num_iterations = 1000\n",
        "\n",
        "all_costs = gradient_descent_iterations(Y,X_Features_standardized,alph,num_iterations)\n",
        "\n",
        "plt.scatter(range(num_iterations),all_costs)\n",
        "plt.xlabel(\"Number of Iterations\")\n",
        "plt.ylabel(\"Total Cost\")\n",
        "plt.title(\"Iteration VS Total Cost\")\n",
        "plt.show()"
      ],
      "execution_count": 1005,
      "outputs": [
        {
          "output_type": "stream",
          "text": [
            "initial guess of b and w:  0.5714025946899135 [0.28025391 0.46124639 0.0607621  0.60388775 0.70561664 0.02350153\n",
            " 0.47776085 0.08587514 0.98012102]\n",
            "Iteration: 0 Cost: 147.82904231595236\n",
            "Iteration: 50 Cost: 54.794480359773736\n",
            "Iteration: 100 Cost: 40.21065774241908\n",
            "Iteration: 150 Cost: 37.203573312138175\n",
            "Iteration: 200 Cost: 36.422513849385766\n",
            "Iteration: 250 Cost: 36.21769602200273\n",
            "Iteration: 300 Cost: 36.18986358633329\n",
            "Iteration: 350 Cost: 36.221314126452945\n",
            "Iteration: 400 Cost: 36.27246655788651\n",
            "Iteration: 450 Cost: 36.32857498058112\n",
            "Iteration: 500 Cost: 36.383676382778326\n",
            "Iteration: 550 Cost: 36.4352538161311\n",
            "Iteration: 600 Cost: 36.48229418545855\n",
            "Iteration: 650 Cost: 36.52450602817545\n",
            "Iteration: 700 Cost: 36.56196653109531\n",
            "Iteration: 750 Cost: 36.59494365564242\n",
            "Iteration: 800 Cost: 36.62379840812835\n",
            "Iteration: 850 Cost: 36.64892829823684\n",
            "Iteration: 900 Cost: 36.6707340784769\n",
            "Iteration: 950 Cost: 36.68960050494979\n",
            "Final estimates of b and w are:  -0.3602151587358709 [ 0.13212379  0.36261531  0.36009208  0.16314054  0.39041426 -0.27817659\n",
            "  0.00426146  0.65729564 -0.8914609 ]\n"
          ],
          "name": "stdout"
        },
        {
          "output_type": "display_data",
          "data": {
            "image/png": "[encoded data removed]",
            "text/plain": [
              "<Figure size 432x288 with 1 Axes>"
            ]
          },
          "metadata": {
            "tags": [],
            "needs_background": "light"
          }
        }
      ]
    },
    {
      "cell_type": "markdown",
      "metadata": {
        "id": "fmjJ_l-XN_i1"
      },
      "source": [
        "**Case - 4**\n",
        "\n",
        "alpha = 0.0001 & iterations = 1000"
      ]
    },
    {
      "cell_type": "code",
      "metadata": {
        "colab": {
          "base_uri": "https://localhost:8080/",
          "height": 731
        },
        "id": "bnC5pEkBOF62",
        "outputId": "1281caad-ac90-4641-c3ad-b9a893eab4f7"
      },
      "source": [
        "alph = 0.0001\n",
        "num_iterations = 1000\n",
        "\n",
        "all_costs = gradient_descent_iterations(Y,X_Features_standardized,alph,num_iterations)\n",
        "\n",
        "plt.scatter(range(num_iterations),all_costs)\n",
        "plt.xlabel(\"Number of Iterations\")\n",
        "plt.ylabel(\"Total Cost\")\n",
        "plt.title(\"Iteration VS Total Cost\")\n",
        "plt.show()"
      ],
      "execution_count": 1006,
      "outputs": [
        {
          "output_type": "stream",
          "text": [
            "initial guess of b and w:  0.5714025946899135 [0.43381641 0.49898295 0.49067177 0.9325386  0.64066457 0.72837195\n",
            " 0.5921876  0.52170406 0.81964335]\n",
            "Iteration: 0 Cost: 160.80288851366114\n",
            "Iteration: 50 Cost: 57.42832786393673\n",
            "Iteration: 100 Cost: 40.19376837658157\n",
            "Iteration: 150 Cost: 37.18815211970667\n",
            "Iteration: 200 Cost: 36.46010479278791\n",
            "Iteration: 250 Cost: 36.27071932147107\n",
            "Iteration: 300 Cost: 36.24290069026397\n",
            "Iteration: 350 Cost: 36.269828412421056\n",
            "Iteration: 400 Cost: 36.31550485866122\n",
            "Iteration: 450 Cost: 36.36624360789878\n",
            "Iteration: 500 Cost: 36.41637584495575\n",
            "Iteration: 550 Cost: 36.463457303098956\n",
            "Iteration: 600 Cost: 36.506481903113205\n",
            "Iteration: 650 Cost: 36.545142211889605\n",
            "Iteration: 700 Cost: 36.57948857059867\n",
            "Iteration: 750 Cost: 36.60975580688801\n",
            "Iteration: 800 Cost: 36.63626832520558\n",
            "Iteration: 850 Cost: 36.65938577272463\n",
            "Iteration: 900 Cost: 36.679471502034886\n",
            "Iteration: 950 Cost: 36.696874573143795\n",
            "Final estimates of b and w are:  -0.3603430838365398 [ 0.13187294  0.36208351  0.36156749  0.14584115  0.38962572 -0.26560374\n",
            "  0.00495557  0.66571166 -0.89149565]\n"
          ],
          "name": "stdout"
        },
        {
          "output_type": "display_data",
          "data": {
            "image/png": "[encoded data removed]",
            "text/plain": [
              "<Figure size 432x288 with 1 Axes>"
            ]
          },
          "metadata": {
            "tags": [],
            "needs_background": "light"
          }
        }
      ]
    },
    {
      "cell_type": "markdown",
      "metadata": {
        "id": "lQhUuly3OGpP"
      },
      "source": [
        "**Case - 5**\n",
        "\n",
        "alpha = 0.001 & iterations = 10000"
      ]
    },
    {
      "cell_type": "code",
      "metadata": {
        "colab": {
          "base_uri": "https://localhost:8080/",
          "height": 1000
        },
        "id": "ruY0ihQaOMLw",
        "outputId": "12373a20-9d83-4781-d985-022be0c8011d"
      },
      "source": [
        "alph = 0.001\n",
        "num_iterations = 10000\n",
        "\n",
        "all_costs = gradient_descent_iterations(Y,X_Features_standardized,alph,num_iterations)\n",
        "\n",
        "plt.scatter(range(num_iterations),all_costs)\n",
        "plt.xlabel(\"Number of Iterations\")\n",
        "plt.ylabel(\"Total Cost\")\n",
        "plt.title(\"Iteration VS Total Cost\")\n",
        "plt.show()"
      ],
      "execution_count": 1007,
      "outputs": [
        {
          "output_type": "stream",
          "text": [
            "initial guess of b and w:  0.5714025946899135 [0.83445038 0.59291199 0.51583456 0.41159034 0.51272368 0.05767892\n",
            " 0.26776797 0.80073863 0.93290693]\n",
            "Iteration: 0 Cost: 146.9849933842286\n",
            "Iteration: 50 Cost: 57.18244433206847\n",
            "Iteration: 100 Cost: 40.593592648107794\n",
            "Iteration: 150 Cost: 37.20780206716512\n",
            "Iteration: 200 Cost: 36.37307932694348\n",
            "Iteration: 250 Cost: 36.17288618609092\n",
            "Iteration: 300 Cost: 36.15702626810562\n",
            "Iteration: 350 Cost: 36.19822766170755\n",
            "Iteration: 400 Cost: 36.25595303054294\n",
            "Iteration: 450 Cost: 36.31619079501147\n",
            "Iteration: 500 Cost: 36.37381494469103\n",
            "Iteration: 550 Cost: 36.42693299975447\n",
            "Iteration: 600 Cost: 36.4749411005367\n",
            "Iteration: 650 Cost: 36.517799564312654\n",
            "Iteration: 700 Cost: 36.555734174660756\n",
            "Iteration: 750 Cost: 36.58909738737957\n",
            "Iteration: 800 Cost: 36.61829617246086\n",
            "Iteration: 850 Cost: 36.643751454525756\n",
            "Iteration: 900 Cost: 36.66587458105532\n",
            "Iteration: 950 Cost: 36.68505389568267\n",
            "Iteration: 1000 Cost: 36.70164764426318\n",
            "Iteration: 1050 Cost: 36.71598092575164\n",
            "Iteration: 1100 Cost: 36.72834520778076\n",
            "Iteration: 1150 Cost: 36.738999420787934\n",
            "Iteration: 1200 Cost: 36.74817196908799\n",
            "Iteration: 1250 Cost: 36.75606321813343\n",
            "Iteration: 1300 Cost: 36.76284816932089\n",
            "Iteration: 1350 Cost: 36.768679138446835\n",
            "Iteration: 1400 Cost: 36.77368832551982\n",
            "Iteration: 1450 Cost: 36.77799021201055\n",
            "Iteration: 1500 Cost: 36.78168375377463\n",
            "Iteration: 1550 Cost: 36.78485435878722\n",
            "Iteration: 1600 Cost: 36.78757565200302\n",
            "Iteration: 1650 Cost: 36.78991103757228\n",
            "Iteration: 1700 Cost: 36.79191507303287\n",
            "Iteration: 1750 Cost: 36.793634672160394\n",
            "Iteration: 1800 Cost: 36.79511015372234\n",
            "Iteration: 1850 Cost: 36.796376153007955\n",
            "Iteration: 1900 Cost: 36.797462412083114\n",
            "Iteration: 1950 Cost: 36.79839446349538\n",
            "Iteration: 2000 Cost: 36.79919422080284\n",
            "Iteration: 2050 Cost: 36.799880487923666\n",
            "Iteration: 2100 Cost: 36.800469397970005\n",
            "Iteration: 2150 Cost: 36.80097479097708\n",
            "Iteration: 2200 Cost: 36.801408538787015\n",
            "Iteration: 2250 Cost: 36.80178082430388\n",
            "Iteration: 2300 Cost: 36.80210038140329\n",
            "Iteration: 2350 Cost: 36.802374700951525\n",
            "Iteration: 2400 Cost: 36.80261020765957\n",
            "Iteration: 2450 Cost: 36.80281241185659\n",
            "Iteration: 2500 Cost: 36.80298603970931\n",
            "Iteration: 2550 Cost: 36.803135144926976\n",
            "Iteration: 2600 Cost: 36.803263204569504\n",
            "Iteration: 2650 Cost: 36.8033732012117\n",
            "Iteration: 2700 Cost: 36.803467693399696\n",
            "Iteration: 2750 Cost: 36.803548876063736\n",
            "Iteration: 2800 Cost: 36.80361863231689\n",
            "Iteration: 2850 Cost: 36.803678577866144\n",
            "Iteration: 2900 Cost: 36.80373009908903\n",
            "Iteration: 2950 Cost: 36.80377438567938\n",
            "Iteration: 3000 Cost: 36.803812458636635\n",
            "Iteration: 3050 Cost: 36.80384519426386\n",
            "Iteration: 3100 Cost: 36.803873344743465\n",
            "Iteration: 3150 Cost: 36.80389755577999\n",
            "Iteration: 3200 Cost: 36.80391838172833\n",
            "Iteration: 3250 Cost: 36.80393629856626\n",
            "Iteration: 3300 Cost: 36.80395171501931\n",
            "Iteration: 3350 Cost: 36.803964982101775\n",
            "Iteration: 3400 Cost: 36.8039764012993\n",
            "Iteration: 3450 Cost: 36.80398623158772\n",
            "Iteration: 3500 Cost: 36.803994695453625\n",
            "Iteration: 3550 Cost: 36.804001984058935\n",
            "Iteration: 3600 Cost: 36.804008261671946\n",
            "Iteration: 3650 Cost: 36.804013669469\n",
            "Iteration: 3700 Cost: 36.804018328796644\n",
            "Iteration: 3750 Cost: 36.80402234397104\n",
            "Iteration: 3800 Cost: 36.80402580468042\n",
            "Iteration: 3850 Cost: 36.80402878804715\n",
            "Iteration: 3900 Cost: 36.80403136039794\n",
            "Iteration: 3950 Cost: 36.8040335787833\n",
            "Iteration: 4000 Cost: 36.80403549228234\n",
            "Iteration: 4050 Cost: 36.80403714312291\n",
            "Iteration: 4100 Cost: 36.804038567643794\n",
            "Iteration: 4150 Cost: 36.80403979712091\n",
            "Iteration: 4200 Cost: 36.80404085847707\n",
            "Iteration: 4250 Cost: 36.80404177489168\n",
            "Iteration: 4300 Cost: 36.80404256632457\n",
            "Iteration: 4350 Cost: 36.80404324996612\n",
            "Iteration: 4400 Cost: 36.80404384062414\n",
            "Iteration: 4450 Cost: 36.8040443510563\n",
            "Iteration: 4500 Cost: 36.804044792256\n",
            "Iteration: 4550 Cost: 36.804045173698015\n",
            "Iteration: 4600 Cost: 36.80404550354983\n",
            "Iteration: 4650 Cost: 36.80404578885336\n",
            "Iteration: 4700 Cost: 36.804046035681154\n",
            "Iteration: 4750 Cost: 36.80404624927096\n",
            "Iteration: 4800 Cost: 36.80404643414128\n",
            "Iteration: 4850 Cost: 36.80404659419091\n",
            "Iteration: 4900 Cost: 36.80404673278474\n",
            "Iteration: 4950 Cost: 36.80404685282726\n",
            "Iteration: 5000 Cost: 36.80404695682626\n",
            "Iteration: 5050 Cost: 36.80404704694733\n",
            "Iteration: 5100 Cost: 36.80404712506105\n",
            "Iteration: 5150 Cost: 36.80404719278347\n",
            "Iteration: 5200 Cost: 36.80404725151106\n",
            "Iteration: 5250 Cost: 36.80404730245077\n",
            "Iteration: 5300 Cost: 36.80404734664605\n",
            "Iteration: 5350 Cost: 36.8040473849992\n",
            "Iteration: 5400 Cost: 36.80404741829053\n",
            "Iteration: 5450 Cost: 36.80404744719517\n",
            "Iteration: 5500 Cost: 36.80404747229719\n",
            "Iteration: 5550 Cost: 36.804047494102214\n",
            "Iteration: 5600 Cost: 36.804047513047855\n",
            "Iteration: 5650 Cost: 36.804047529513106\n",
            "Iteration: 5700 Cost: 36.80404754382616\n",
            "Iteration: 5750 Cost: 36.80404755627135\n",
            "Iteration: 5800 Cost: 36.80404756709506\n",
            "Iteration: 5850 Cost: 36.80404757651081\n",
            "Iteration: 5900 Cost: 36.804047584703746\n",
            "Iteration: 5950 Cost: 36.80404759183438\n",
            "Iteration: 6000 Cost: 36.80404759804187\n",
            "Iteration: 6050 Cost: 36.80404760344708\n",
            "Iteration: 6100 Cost: 36.80404760815478\n",
            "Iteration: 6150 Cost: 36.80404761225597\n",
            "Iteration: 6200 Cost: 36.80404761582958\n",
            "Iteration: 6250 Cost: 36.80404761894424\n",
            "Iteration: 6300 Cost: 36.8040476216595\n",
            "Iteration: 6350 Cost: 36.8040476240271\n",
            "Iteration: 6400 Cost: 36.80404762609206\n",
            "Iteration: 6450 Cost: 36.80404762789344\n",
            "Iteration: 6500 Cost: 36.804047629465266\n",
            "Iteration: 6550 Cost: 36.80404763083707\n",
            "Iteration: 6600 Cost: 36.80404763203456\n",
            "Iteration: 6650 Cost: 36.804047633080124\n",
            "Iteration: 6700 Cost: 36.80404763399323\n",
            "Iteration: 6750 Cost: 36.80404763479084\n",
            "Iteration: 6800 Cost: 36.80404763548768\n",
            "Iteration: 6850 Cost: 36.804047636096655\n",
            "Iteration: 6900 Cost: 36.804047636628894\n",
            "Iteration: 6950 Cost: 36.8040476370942\n",
            "Iteration: 7000 Cost: 36.80404763750107\n",
            "Iteration: 7050 Cost: 36.80404763785688\n",
            "Iteration: 7100 Cost: 36.804047638168164\n",
            "Iteration: 7150 Cost: 36.80404763844048\n",
            "Iteration: 7200 Cost: 36.80404763867879\n",
            "Iteration: 7250 Cost: 36.80404763888734\n",
            "Iteration: 7300 Cost: 36.804047639069914\n",
            "Iteration: 7350 Cost: 36.804047639229765\n",
            "Iteration: 7400 Cost: 36.80404763936976\n",
            "Iteration: 7450 Cost: 36.80404763949235\n",
            "Iteration: 7500 Cost: 36.80404763959976\n",
            "Iteration: 7550 Cost: 36.80404763969385\n",
            "Iteration: 7600 Cost: 36.804047639776314\n",
            "Iteration: 7650 Cost: 36.8040476398486\n",
            "Iteration: 7700 Cost: 36.80404763991196\n",
            "Iteration: 7750 Cost: 36.80404763996749\n",
            "Iteration: 7800 Cost: 36.80404764001619\n",
            "Iteration: 7850 Cost: 36.80404764005891\n",
            "Iteration: 7900 Cost: 36.80404764009638\n",
            "Iteration: 7950 Cost: 36.804047640129234\n",
            "Iteration: 8000 Cost: 36.80404764015807\n",
            "Iteration: 8050 Cost: 36.804047640183356\n",
            "Iteration: 8100 Cost: 36.80404764020557\n",
            "Iteration: 8150 Cost: 36.804047640225065\n",
            "Iteration: 8200 Cost: 36.80404764024218\n",
            "Iteration: 8250 Cost: 36.80404764025721\n",
            "Iteration: 8300 Cost: 36.804047640270404\n",
            "Iteration: 8350 Cost: 36.804047640281965\n",
            "Iteration: 8400 Cost: 36.80404764029213\n",
            "Iteration: 8450 Cost: 36.80404764030107\n",
            "Iteration: 8500 Cost: 36.80404764030893\n",
            "Iteration: 8550 Cost: 36.80404764031583\n",
            "Iteration: 8600 Cost: 36.80404764032188\n",
            "Iteration: 8650 Cost: 36.80404764032721\n",
            "Iteration: 8700 Cost: 36.80404764033189\n",
            "Iteration: 8750 Cost: 36.80404764033601\n",
            "Iteration: 8800 Cost: 36.80404764033962\n",
            "Iteration: 8850 Cost: 36.80404764034279\n",
            "Iteration: 8900 Cost: 36.80404764034559\n",
            "Iteration: 8950 Cost: 36.80404764034805\n",
            "Iteration: 9000 Cost: 36.804047640350205\n",
            "Iteration: 9050 Cost: 36.80404764035213\n",
            "Iteration: 9100 Cost: 36.80404764035378\n",
            "Iteration: 9150 Cost: 36.80404764035525\n",
            "Iteration: 9200 Cost: 36.80404764035654\n",
            "Iteration: 9250 Cost: 36.80404764035768\n",
            "Iteration: 9300 Cost: 36.8040476403587\n",
            "Iteration: 9350 Cost: 36.80404764035958\n",
            "Iteration: 9400 Cost: 36.804047640360345\n",
            "Iteration: 9450 Cost: 36.80404764036103\n",
            "Iteration: 9500 Cost: 36.804047640361624\n",
            "Iteration: 9550 Cost: 36.80404764036214\n",
            "Iteration: 9600 Cost: 36.804047640362626\n",
            "Iteration: 9650 Cost: 36.80404764036304\n",
            "Iteration: 9700 Cost: 36.80404764036339\n",
            "Iteration: 9750 Cost: 36.804047640363706\n",
            "Iteration: 9800 Cost: 36.80404764036398\n",
            "Iteration: 9850 Cost: 36.804047640364224\n",
            "Iteration: 9900 Cost: 36.804047640364445\n",
            "Iteration: 9950 Cost: 36.804047640364644\n",
            "Final estimates of b and w are:  -0.3377443012065019 [ 0.1333084   0.36457793  0.36018059  0.14461648  0.38872551 -0.26508207\n",
            "  0.00297842  0.66069516 -0.92537042]\n"
          ],
          "name": "stdout"
        },
        {
          "output_type": "display_data",
          "data": {
            "image/png": "[encoded data removed]",
            "text/plain": [
              "<Figure size 432x288 with 1 Axes>"
            ]
          },
          "metadata": {
            "tags": [],
            "needs_background": "light"
          }
        }
      ]
    },
    {
      "cell_type": "markdown",
      "metadata": {
        "id": "6rC837nPOMxV"
      },
      "source": [
        "**Case - 6**\n",
        "\n",
        "alpha = 0.0001 & iterations = 10000"
      ]
    },
    {
      "cell_type": "code",
      "metadata": {
        "colab": {
          "base_uri": "https://localhost:8080/",
          "height": 1000
        },
        "id": "CHYgZFLZOmEk",
        "outputId": "531358ca-e5bb-4e6e-e3fe-f4c130fbd284"
      },
      "source": [
        "alph = 0.0001\n",
        "num_iterations = 10000\n",
        "\n",
        "all_costs = gradient_descent_iterations(Y,X_Features_standardized,alph,num_iterations)\n",
        "\n",
        "plt.scatter(range(num_iterations),all_costs)\n",
        "plt.xlabel(\"Number of Iterations\")\n",
        "plt.ylabel(\"Total Cost\")\n",
        "plt.title(\"Iteration VS Total Cost\")\n",
        "plt.show()"
      ],
      "execution_count": 1008,
      "outputs": [
        {
          "output_type": "stream",
          "text": [
            "initial guess of b and w:  0.5714025946899135 [0.01200299 0.0169275  0.93066731 0.84546991 0.49342587 0.94163456\n",
            " 0.25033574 0.31632396 0.94216713]\n",
            "Iteration: 0 Cost: 164.56074580368858\n",
            "Iteration: 50 Cost: 58.298621335050576\n",
            "Iteration: 100 Cost: 40.53034872338173\n",
            "Iteration: 150 Cost: 37.341221610816575\n",
            "Iteration: 200 Cost: 36.51977220818555\n",
            "Iteration: 250 Cost: 36.28113020612602\n",
            "Iteration: 300 Cost: 36.228396168920966\n",
            "Iteration: 350 Cost: 36.24372617846886\n",
            "Iteration: 400 Cost: 36.28495836010924\n",
            "Iteration: 450 Cost: 36.335010485497186\n",
            "Iteration: 500 Cost: 36.386362712583356\n",
            "Iteration: 550 Cost: 36.43556691772025\n",
            "Iteration: 600 Cost: 36.48107445605412\n",
            "Iteration: 650 Cost: 36.522286912181244\n",
            "Iteration: 700 Cost: 36.55910182704743\n",
            "Iteration: 750 Cost: 36.59167780551016\n",
            "Iteration: 800 Cost: 36.6203057714835\n",
            "Iteration: 850 Cost: 36.64533577571752\n",
            "Iteration: 900 Cost: 36.66713477681471\n",
            "Iteration: 950 Cost: 36.6860624987937\n",
            "Iteration: 1000 Cost: 36.702458148024576\n",
            "Iteration: 1050 Cost: 36.71663374663814\n",
            "Iteration: 1100 Cost: 36.72887149966838\n",
            "Iteration: 1150 Cost: 36.73942358786123\n",
            "Iteration: 1200 Cost: 36.7485133722618\n",
            "Iteration: 1250 Cost: 36.75633736872492\n",
            "Iteration: 1300 Cost: 36.76306758768031\n",
            "Iteration: 1350 Cost: 36.76885398740506\n",
            "Iteration: 1400 Cost: 36.77382688819417\n",
            "Iteration: 1450 Cost: 36.77809925911216\n",
            "Iteration: 1500 Cost: 36.78176883049103\n",
            "Iteration: 1550 Cost: 36.78492001180175\n",
            "Iteration: 1600 Cost: 36.78762561106693\n",
            "Iteration: 1650 Cost: 36.789948361980414\n",
            "Iteration: 1700 Cost: 36.791942270600806\n",
            "Iteration: 1750 Cost: 36.793653796393066\n",
            "Iteration: 1800 Cost: 36.79512288351033\n",
            "Iteration: 1850 Cost: 36.796383858209936\n",
            "Iteration: 1900 Cost: 36.7974662076289\n",
            "Iteration: 1950 Cost: 36.79839525410117\n",
            "Iteration: 2000 Cost: 36.79919273797543\n",
            "Iteration: 2050 Cost: 36.79987732060828\n",
            "Iteration: 2100 Cost: 36.8004650179443\n",
            "Iteration: 2150 Cost: 36.800969573893525\n",
            "Iteration: 2200 Cost: 36.801402781604864\n",
            "Iteration: 2250 Cost: 36.80177475972271\n",
            "Iteration: 2300 Cost: 36.80209418980418\n",
            "Iteration: 2350 Cost: 36.80236852026609\n",
            "Iteration: 2400 Cost: 36.802604141515474\n",
            "Iteration: 2450 Cost: 36.8028065362901\n",
            "Iteration: 2500 Cost: 36.80298040868678\n",
            "Iteration: 2550 Cost: 36.80312979487672\n",
            "Iteration: 2600 Cost: 36.803258158092454\n",
            "Iteration: 2650 Cost: 36.80336847011092\n",
            "Iteration: 2700 Cost: 36.803463281145554\n",
            "Iteration: 2750 Cost: 36.803544779792745\n",
            "Iteration: 2800 Cost: 36.803614844444965\n",
            "Iteration: 2850 Cost: 36.80367508738419\n",
            "Iteration: 2900 Cost: 36.80372689259747\n",
            "Iteration: 2950 Cost: 36.80377144820793\n",
            "Iteration: 3000 Cost: 36.80380977428896\n",
            "Iteration: 3050 Cost: 36.80384274671863\n",
            "Iteration: 3100 Cost: 36.80387111763936\n",
            "Iteration: 3150 Cost: 36.80389553300631\n",
            "Iteration: 3200 Cost: 36.80391654763954\n",
            "Iteration: 3250 Cost: 36.8039346381357\n",
            "Iteration: 3300 Cost: 36.80395021394444\n",
            "Iteration: 3350 Cost: 36.8039636268709\n",
            "Iteration: 3400 Cost: 36.80397517922852\n",
            "Iteration: 3450 Cost: 36.80398513083442\n",
            "Iteration: 3500 Cost: 36.80399370501213\n",
            "Iteration: 3550 Cost: 36.80400109374318\n",
            "Iteration: 3600 Cost: 36.804007462088045\n",
            "Iteration: 3650 Cost: 36.804012951981264\n",
            "Iteration: 3700 Cost: 36.80401768548878\n",
            "Iteration: 3750 Cost: 36.8040217676047\n",
            "Iteration: 3800 Cost: 36.80402528865224\n",
            "Iteration: 3850 Cost: 36.80402832634565\n",
            "Iteration: 3900 Cost: 36.80403094756066\n",
            "Iteration: 3950 Cost: 36.80403320985535\n",
            "Iteration: 4000 Cost: 36.80403516277622\n",
            "Iteration: 4050 Cost: 36.80403684898045\n",
            "Iteration: 4100 Cost: 36.80403830519986\n",
            "Iteration: 4150 Cost: 36.80403956306953\n",
            "Iteration: 4200 Cost: 36.80404064983958\n",
            "Iteration: 4250 Cost: 36.80404158898721\n",
            "Iteration: 4300 Cost: 36.804042400742716\n",
            "Iteration: 4350 Cost: 36.80404310254161\n",
            "Iteration: 4400 Cost: 36.80404370941357\n",
            "Iteration: 4450 Cost: 36.80404423431688\n",
            "Iteration: 4500 Cost: 36.80404468842593\n",
            "Iteration: 4550 Cost: 36.80404508137881\n",
            "Iteration: 4600 Cost: 36.80404542148998\n",
            "Iteration: 4650 Cost: 36.804045715933626\n",
            "Iteration: 4700 Cost: 36.804045970901264\n",
            "Iteration: 4750 Cost: 36.804046191737285\n",
            "Iteration: 4800 Cost: 36.80404638305604\n",
            "Iteration: 4850 Cost: 36.804046548842244\n",
            "Iteration: 4900 Cost: 36.80404669253764\n",
            "Iteration: 4950 Cost: 36.80404681711568\n",
            "Iteration: 5000 Cost: 36.80404692514572\n",
            "Iteration: 5050 Cost: 36.8040470188485\n",
            "Iteration: 5100 Cost: 36.804047100143805\n",
            "Iteration: 5150 Cost: 36.804047170691625\n",
            "Iteration: 5200 Cost: 36.80404723192772\n",
            "Iteration: 5250 Cost: 36.8040472850941\n",
            "Iteration: 5300 Cost: 36.804047331265394\n",
            "Iteration: 5350 Cost: 36.8040473713717\n",
            "Iteration: 5400 Cost: 36.8040474062182\n",
            "Iteration: 5450 Cost: 36.804047436502074\n",
            "Iteration: 5500 Cost: 36.8040474628271\n",
            "Iteration: 5550 Cost: 36.804047485716346\n",
            "Iteration: 5600 Cost: 36.804047505623075\n",
            "Iteration: 5650 Cost: 36.804047522940046\n",
            "Iteration: 5700 Cost: 36.80404753800783\n",
            "Iteration: 5750 Cost: 36.80404755112169\n",
            "Iteration: 5800 Cost: 36.804047562537725\n",
            "Iteration: 5850 Cost: 36.804047572478105\n",
            "Iteration: 5900 Cost: 36.80404758113564\n",
            "Iteration: 5950 Cost: 36.80404758867763\n",
            "Iteration: 6000 Cost: 36.804047595249386\n",
            "Iteration: 6050 Cost: 36.80404760097702\n",
            "Iteration: 6100 Cost: 36.80404760597011\n",
            "Iteration: 6150 Cost: 36.80404761032388\n",
            "Iteration: 6200 Cost: 36.80404761412101\n",
            "Iteration: 6250 Cost: 36.804047617433454\n",
            "Iteration: 6300 Cost: 36.8040476203237\n",
            "Iteration: 6350 Cost: 36.80404762284613\n",
            "Iteration: 6400 Cost: 36.804047625048014\n",
            "Iteration: 6450 Cost: 36.80404762697054\n",
            "Iteration: 6500 Cost: 36.804047628649485\n",
            "Iteration: 6550 Cost: 36.804047630116024\n",
            "Iteration: 6600 Cost: 36.8040476313973\n",
            "Iteration: 6650 Cost: 36.80404763251691\n",
            "Iteration: 6700 Cost: 36.80404763349555\n",
            "Iteration: 6750 Cost: 36.804047634351036\n",
            "Iteration: 6800 Cost: 36.804047635099096\n",
            "Iteration: 6850 Cost: 36.8040476357533\n",
            "Iteration: 6900 Cost: 36.804047636325535\n",
            "Iteration: 6950 Cost: 36.80404763682619\n",
            "Iteration: 7000 Cost: 36.8040476372643\n",
            "Iteration: 7050 Cost: 36.80404763764774\n",
            "Iteration: 7100 Cost: 36.80404763798339\n",
            "Iteration: 7150 Cost: 36.80404763827727\n",
            "Iteration: 7200 Cost: 36.80404763853462\n",
            "Iteration: 7250 Cost: 36.80404763876002\n",
            "Iteration: 7300 Cost: 36.80404763895747\n",
            "Iteration: 7350 Cost: 36.80404763913045\n",
            "Iteration: 7400 Cost: 36.80404763928204\n",
            "Iteration: 7450 Cost: 36.80404763941492\n",
            "Iteration: 7500 Cost: 36.804047639531355\n",
            "Iteration: 7550 Cost: 36.80404763963345\n",
            "Iteration: 7600 Cost: 36.804047639722995\n",
            "Iteration: 7650 Cost: 36.80404763980151\n",
            "Iteration: 7700 Cost: 36.804047639870376\n",
            "Iteration: 7750 Cost: 36.80404763993077\n",
            "Iteration: 7800 Cost: 36.80404763998377\n",
            "Iteration: 7850 Cost: 36.80404764003028\n",
            "Iteration: 7900 Cost: 36.8040476400711\n",
            "Iteration: 7950 Cost: 36.80404764010693\n",
            "Iteration: 8000 Cost: 36.804047640138386\n",
            "Iteration: 8050 Cost: 36.80404764016598\n",
            "Iteration: 8100 Cost: 36.80404764019024\n",
            "Iteration: 8150 Cost: 36.80404764021152\n",
            "Iteration: 8200 Cost: 36.804047640230216\n",
            "Iteration: 8250 Cost: 36.80404764024665\n",
            "Iteration: 8300 Cost: 36.80404764026107\n",
            "Iteration: 8350 Cost: 36.80404764027376\n",
            "Iteration: 8400 Cost: 36.80404764028489\n",
            "Iteration: 8450 Cost: 36.80404764029467\n",
            "Iteration: 8500 Cost: 36.804047640303274\n",
            "Iteration: 8550 Cost: 36.804047640310834\n",
            "Iteration: 8600 Cost: 36.80404764031747\n",
            "Iteration: 8650 Cost: 36.80404764032333\n",
            "Iteration: 8700 Cost: 36.804047640328456\n",
            "Iteration: 8750 Cost: 36.80404764033297\n",
            "Iteration: 8800 Cost: 36.80404764033696\n",
            "Iteration: 8850 Cost: 36.80404764034044\n",
            "Iteration: 8900 Cost: 36.80404764034351\n",
            "Iteration: 8950 Cost: 36.804047640346226\n",
            "Iteration: 9000 Cost: 36.80404764034859\n",
            "Iteration: 9050 Cost: 36.80404764035069\n",
            "Iteration: 9100 Cost: 36.80404764035253\n",
            "Iteration: 9150 Cost: 36.80404764035414\n",
            "Iteration: 9200 Cost: 36.80404764035556\n",
            "Iteration: 9250 Cost: 36.80404764035683\n",
            "Iteration: 9300 Cost: 36.804047640357915\n",
            "Iteration: 9350 Cost: 36.804047640358895\n",
            "Iteration: 9400 Cost: 36.80404764035974\n",
            "Iteration: 9450 Cost: 36.80404764036049\n",
            "Iteration: 9500 Cost: 36.80404764036115\n",
            "Iteration: 9550 Cost: 36.80404764036174\n",
            "Iteration: 9600 Cost: 36.804047640362256\n",
            "Iteration: 9650 Cost: 36.80404764036271\n",
            "Iteration: 9700 Cost: 36.80404764036312\n",
            "Iteration: 9750 Cost: 36.80404764036347\n",
            "Iteration: 9800 Cost: 36.80404764036377\n",
            "Iteration: 9850 Cost: 36.80404764036405\n",
            "Iteration: 9900 Cost: 36.80404764036428\n",
            "Iteration: 9950 Cost: 36.804047640364494\n",
            "Final estimates of b and w are:  -0.33774430120656124 [ 0.1333084   0.36457793  0.36018059  0.14461648  0.38872551 -0.26508207\n",
            "  0.00297842  0.66069516 -0.92537042]\n"
          ],
          "name": "stdout"
        },
        {
          "output_type": "display_data",
          "data": {
            "image/png": "[encoded data removed]",
            "text/plain": [
              "<Figure size 432x288 with 1 Axes>"
            ]
          },
          "metadata": {
            "tags": [],
            "needs_background": "light"
          }
        }
      ]
    }
  ]
}