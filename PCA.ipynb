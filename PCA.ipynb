{
  "nbformat": 4,
  "nbformat_minor": 0,
  "metadata": {
    "colab": {
      "name": "PCA.ipynb",
      "provenance": [],
      "collapsed_sections": [],
      "authorship_tag": "ABX9TyOVfdE4obhnVhqvkWzla1ES",
      "include_colab_link": true
    },
    "kernelspec": {
      "name": "python3",
      "display_name": "Python 3"
    },
    "language_info": {
      "name": "python"
    }
  },
  "cells": [
    {
      "cell_type": "markdown",
      "metadata": {
        "id": "view-in-github",
        "colab_type": "text"
      },
      "source": [
        "<a href=\"https://colab.research.google.com/github/sanjoy-kumar/Machine-Learning/blob/main/PCA.ipynb\" target=\"_parent\"><img src=\"https://colab.research.google.com/assets/colab-badge.svg\" alt=\"Open In Colab\"/></a>"
      ]
    },
    {
      "cell_type": "markdown",
      "metadata": {
        "id": "JlJQ---UeDtl"
      },
      "source": [
        "**Import libraries**"
      ]
    },
    {
      "cell_type": "code",
      "metadata": {
        "id": "NuB4RPfcdxHI"
      },
      "source": [
        "import pandas as pd\n",
        "import numpy as np\n",
        "from numpy import argmax\n",
        "from keras.models import Sequential\n",
        "from keras.layers import Dense\n",
        "from keras.wrappers.scikit_learn import KerasClassifier\n",
        "from keras.utils import np_utils\n",
        "from sklearn.model_selection import cross_val_score, train_test_split\n",
        "from sklearn.preprocessing import LabelEncoder\n",
        "import matplotlib.pyplot as plt\n",
        "from sklearn.cluster import KMeans\n",
        "import sklearn.metrics as metrics\n",
        "from sklearn.metrics import accuracy_score \n",
        "from sklearn.preprocessing import StandardScaler\n",
        "import warnings\n",
        "warnings.filterwarnings('ignore')\n",
        "from sklearn.decomposition import PCA\n",
        "from sklearn.linear_model import LogisticRegression"
      ],
      "execution_count": null,
      "outputs": []
    },
    {
      "cell_type": "markdown",
      "metadata": {
        "id": "JuKId1Sgdyeg"
      },
      "source": [
        "**Data Initialization**"
      ]
    },
    {
      "cell_type": "code",
      "metadata": {
        "id": "y7Kcqg7WdzS6"
      },
      "source": [
        "data = pd.read_csv('https://raw.githubusercontent.com/tofighi/MachineLearning/master/datasets/heart.csv',index_col=0)\n",
        "data['famhist']= pd.get_dummies(data['famhist'])\n",
        "data = data.values\n",
        "X = data[:,0:9].astype(float)\n",
        "Y = data[:,9]"
      ],
      "execution_count": null,
      "outputs": []
    },
    {
      "cell_type": "markdown",
      "metadata": {
        "id": "io4em8QHd1Gs"
      },
      "source": [
        "**Part A**\n",
        "----------\n",
        "\n",
        "\n",
        "**Q1. The accuracy**"
      ]
    },
    {
      "cell_type": "code",
      "metadata": {
        "colab": {
          "base_uri": "https://localhost:8080/"
        },
        "id": "ASaM5YpNd1pl",
        "outputId": "5bd65018-1a46-4f11-be2e-54753f0a981f"
      },
      "source": [
        "xTrain, xTest,yTrain,yTest=train_test_split(X,Y,test_size=0.50, random_state=70)\n",
        "\n",
        "kclusters = 2\n",
        "k_means = KMeans(n_clusters=kclusters)\n",
        "k_means.fit(xTrain)\n",
        "yPredict= k_means.predict(xTest)\n",
        "score = metrics.accuracy_score(yTest,yPredict)\n",
        "print('Accuracy:{0:.2f}%'.format(score*100))\n"
      ],
      "execution_count": null,
      "outputs": [
        {
          "output_type": "stream",
          "text": [
            "Accuracy:65.37%\n"
          ],
          "name": "stdout"
        }
      ]
    },
    {
      "cell_type": "markdown",
      "metadata": {
        "id": "xMDztjcAgRVt"
      },
      "source": [
        "**Q2. Plot 'sbp' vs 'tobacco' and represent the actual data points with different color to show the two classes.**"
      ]
    },
    {
      "cell_type": "code",
      "metadata": {
        "colab": {
          "base_uri": "https://localhost:8080/",
          "height": 295
        },
        "id": "a5TNknQugR98",
        "outputId": "28a6900f-a9e9-4170-9221-f9d70b8f66c4"
      },
      "source": [
        "\n",
        "#Visualise data points\n",
        "xSBP = xTest[:,0]\n",
        "yTobacco = xTest[:,1]\n",
        "\n",
        "for i in range(len(yTest)):\n",
        "    if yTest[i]==1:\n",
        "        plt.scatter(xSBP[i],yTobacco[i],color='blue')\n",
        "    else:\n",
        "        plt.scatter(xSBP[i],yTobacco[i],color='red')\n",
        "\n",
        "plt.title(\"SBP vs Tobacco (Represent the actual data)\")\n",
        "plt.xlabel('SBP')\n",
        "plt.ylabel('Tobacco')\n",
        "plt.show()"
      ],
      "execution_count": null,
      "outputs": [
        {
          "output_type": "display_data",
          "data": {
            "image/png": "[encoded data removed]",
            "text/plain": [
              "<Figure size 432x288 with 1 Axes>"
            ]
          },
          "metadata": {
            "tags": [],
            "needs_background": "light"
          }
        }
      ]
    },
    {
      "cell_type": "markdown",
      "metadata": {
        "id": "q58LbxttiC5t"
      },
      "source": [
        "**Q3. Plot 'sbp' vs 'tobacco' and represent the predicted data points with different color to show the two classes.**"
      ]
    },
    {
      "cell_type": "code",
      "metadata": {
        "colab": {
          "base_uri": "https://localhost:8080/",
          "height": 295
        },
        "id": "yhnl9eFpiDln",
        "outputId": "e40a2391-e812-4718-ddaa-f08dbdcfb12e"
      },
      "source": [
        "#Visualise data points\n",
        "xSBP = xTest[:,0]\n",
        "yTobacco = xTest[:,1]\n",
        "\n",
        "for i in range(len(yPredict)):\n",
        "    if yPredict[i]==1:\n",
        "        plt.scatter(xSBP[i],yTobacco[i],color='blue')\n",
        "    else:\n",
        "        plt.scatter(xSBP[i],yTobacco[i],color='red')\n",
        "\n",
        "plt.title(\"SBP vs Tobacco (Represent the predicted data)\")\n",
        "plt.xlabel('SBP')\n",
        "plt.ylabel('Tobacco')\n",
        "plt.show()\n"
      ],
      "execution_count": null,
      "outputs": [
        {
          "output_type": "display_data",
          "data": {
            "image/png": "[encoded data removed]",
            "text/plain": [
              "<Figure size 432x288 with 1 Axes>"
            ]
          },
          "metadata": {
            "tags": [],
            "needs_background": "light"
          }
        }
      ]
    },
    {
      "cell_type": "markdown",
      "metadata": {
        "id": "w1BvfzYn8-vk"
      },
      "source": [
        "**Neural network:**\n",
        "------------------\n",
        "\n"
      ]
    },
    {
      "cell_type": "markdown",
      "metadata": {
        "id": "MP0EviPev4L8"
      },
      "source": [
        "**Q4. Provide the accuracy.**"
      ]
    },
    {
      "cell_type": "code",
      "metadata": {
        "colab": {
          "base_uri": "https://localhost:8080/"
        },
        "id": "xzWdJ4Ce9FZn",
        "outputId": "76196126-0d26-4356-ca82-4460d8e833a1"
      },
      "source": [
        "#------------------------- Encoding ----------------------------------------------\n",
        "\n",
        "# encode class values as integers\n",
        "encoder = LabelEncoder()\n",
        "encoder.fit(Y)\n",
        "encodedY = encoder.transform(Y)\n",
        "\n",
        "# convert integers to dummy variables (i.e. one hot encoded)\n",
        "dummyY = np_utils.to_categorical(encodedY)\n",
        "\n",
        "# ---------------------- Normalization Data----------------------------------------\n",
        "# define Standard Scaler\n",
        "scaler = StandardScaler()\n",
        "# transform data\n",
        "scaledX = scaler.fit_transform(X)\n",
        "\n",
        "# ---------------------- Spliting Data----------------------------------------------\n",
        "\n",
        "xTrain2,xTest2,yTrain2,yTest2 = train_test_split(scaledX,dummyY,test_size=0.50,random_state=70)\n",
        "\n",
        "\n",
        "# --------------- Structure: FCL (500,500,128 and 2 units) => three hidden layers and one output layer -----------\n",
        "\n",
        "def build_and_compile_model():\n",
        "\t# create model\n",
        "\tmodel = Sequential()\n",
        "\tmodel.add(Dense(500,input_dim=9, activation='relu'))\n",
        "\tmodel.add(Dense(500,activation='relu'))\n",
        "\tmodel.add(Dense(128,activation='relu'))\n",
        "\tmodel.add(Dense(2, activation='softmax'))\n",
        "\t# Compile model\n",
        "\tmodel.compile(loss='binary_crossentropy', optimizer='adam', metrics=['accuracy'])\n",
        "\treturn model\n",
        "\n",
        "\n",
        "estimator = KerasClassifier(build_fn=build_and_compile_model, epochs=35, batch_size=12, verbose=0)\n",
        "results = cross_val_score(estimator, xTrain2, yTrain2)\n",
        "print(\"Accuracy: %.2f%% \" % (results.mean()*100))"
      ],
      "execution_count": null,
      "outputs": [
        {
          "output_type": "stream",
          "text": [
            "Accuracy: 65.78% \n"
          ],
          "name": "stdout"
        }
      ]
    },
    {
      "cell_type": "markdown",
      "metadata": {
        "id": "FBvfZYkr1T6o"
      },
      "source": [
        "**Q5. Plot 'sbp' vs 'tobacco' and represent the actual data points with different color to show the two classes.**"
      ]
    },
    {
      "cell_type": "code",
      "metadata": {
        "colab": {
          "base_uri": "https://localhost:8080/",
          "height": 295
        },
        "id": "-yaSDjBs1Ujm",
        "outputId": "9598cd51-7447-452f-d08f-4556592dc487"
      },
      "source": [
        "#Visualise data points\n",
        "xSBP = xTest2[:,0]\n",
        "yTobacco = xTest2[:,1]\n",
        "\n",
        "# invert encoding\n",
        "inverted = np.argmax(yTest2, axis=1)\n",
        "\n",
        "\n",
        "for i in range(len(inverted)):\n",
        "    if inverted[i]==1:\n",
        "        plt.scatter(xSBP[i],yTobacco[i],color='blue')\n",
        "    else:\n",
        "        plt.scatter(xSBP[i],yTobacco[i],color='red')\n",
        "\n",
        "plt.title(\"SBP vs Tobacco (Represent the actual data)\")\n",
        "plt.xlabel('SBP')\n",
        "plt.ylabel('Tobacco')\n",
        "plt.show()"
      ],
      "execution_count": null,
      "outputs": [
        {
          "output_type": "display_data",
          "data": {
            "image/png": "[encoded data removed]",
            "text/plain": [
              "<Figure size 432x288 with 1 Axes>"
            ]
          },
          "metadata": {
            "tags": [],
            "needs_background": "light"
          }
        }
      ]
    },
    {
      "cell_type": "markdown",
      "metadata": {
        "id": "Yuie9zlhvpe5"
      },
      "source": [
        "**Q6. Plot 'sbp' vs 'tobacco' and represent the predicted data points with different color to show the two classes.**"
      ]
    },
    {
      "cell_type": "code",
      "metadata": {
        "colab": {
          "base_uri": "https://localhost:8080/",
          "height": 295
        },
        "id": "PFaJvLoSvrTd",
        "outputId": "1a04a16d-1a51-4bbd-8472-a60a12617ff4"
      },
      "source": [
        "#Visualise data points\n",
        "estimator.fit(xTrain2, yTrain2)\n",
        "yPredict2= estimator.predict(xTest2)\n",
        "\n",
        "for i in range(len(yPredict2)):\n",
        "    if yPredict2[i]==1:\n",
        "        plt.scatter(xSBP[i],yTobacco[i],color='blue')\n",
        "    else:\n",
        "        plt.scatter(xSBP[i],yTobacco[i],color='red')\n",
        "\n",
        "plt.title(\"SBP vs Tobacco (Represent the predicted data points)\")\n",
        "plt.xlabel('SBP')\n",
        "plt.ylabel('Tobacco')\n",
        "plt.show()\n"
      ],
      "execution_count": null,
      "outputs": [
        {
          "output_type": "display_data",
          "data": {
            "image/png": "[encoded data removed]",
            "text/plain": [
              "<Figure size 432x288 with 1 Axes>"
            ]
          },
          "metadata": {
            "tags": [],
            "needs_background": "light"
          }
        }
      ]
    },
    {
      "cell_type": "markdown",
      "metadata": {
        "id": "5fZyoLS9LqD0"
      },
      "source": [
        "**Part-B**\n",
        "---------\n"
      ]
    },
    {
      "cell_type": "markdown",
      "metadata": {
        "id": "mQl47GU-MGno"
      },
      "source": [
        "**Q7: How many PCs explain more than 90% of variation?**"
      ]
    },
    {
      "cell_type": "code",
      "metadata": {
        "colab": {
          "base_uri": "https://localhost:8080/"
        },
        "id": "Ba4_KyxoLr-5",
        "outputId": "cb281727-d205-438a-9b15-a89345687221"
      },
      "source": [
        "pca = PCA(n_components=9)\n",
        "principalComponents = pca.fit_transform(scaledX)\n",
        "principalDf = pd.DataFrame(data = principalComponents,columns = ['PC1','PC2','PC3','PC4','PC5','PC6','PC7','PC8','PC9'])\n",
        "Y = np.reshape(Y,(462,1))\n",
        "finalDf = np.concatenate([principalDf, Y], axis = 1)\n",
        "pcaVariance= pca.explained_variance_ratio_\n",
        "pcaCumSum = pca.explained_variance_ratio_.cumsum()\n",
        "count =0\n",
        "for i in range(len(pcaCumSum)):\n",
        "    if pcaCumSum[i] > 0.90:\n",
        "        count = i + 1\n",
        "        break\n",
        "\n",
        "print(\"\\nNumber of PCs more than 90% of variation is\",count)"
      ],
      "execution_count": null,
      "outputs": [
        {
          "output_type": "stream",
          "text": [
            "\n",
            "Number of PCs more than 90% of variation is 7\n"
          ],
          "name": "stdout"
        }
      ]
    },
    {
      "cell_type": "markdown",
      "metadata": {
        "id": "jqxr9ah3iuRF"
      },
      "source": [
        "**Q8: How much variation is explained by first two PCs?**"
      ]
    },
    {
      "cell_type": "code",
      "metadata": {
        "colab": {
          "base_uri": "https://localhost:8080/"
        },
        "id": "crdQQ7r0iu5g",
        "outputId": "1c07218a-551a-4282-aab4-14d273fefc90"
      },
      "source": [
        "pc1 = pcaVariance[0]\n",
        "pc2 = pcaVariance[1]\n",
        "pc = (pc1 + pc2)*100\n",
        "print(\"About %.2f%% \" % (pc) + \"of the variation is explained by the first two PCs.\")"
      ],
      "execution_count": null,
      "outputs": [
        {
          "output_type": "stream",
          "text": [
            "About 45.35% of the variation is explained by the first two PCs.\n"
          ],
          "name": "stdout"
        }
      ]
    },
    {
      "cell_type": "markdown",
      "metadata": {
        "id": "dSjsbi-oj4-p"
      },
      "source": [
        "**Perform K-Means clustering using PCs that explain 90% variation.**\n",
        "-------------------------------------------------------------------\n",
        "**Q9:Provide the accuracy**"
      ]
    },
    {
      "cell_type": "code",
      "metadata": {
        "colab": {
          "base_uri": "https://localhost:8080/"
        },
        "id": "PPqbAjvGpEhp",
        "outputId": "4faf0b57-86c9-4a7d-8e2f-c2c9f49460bc"
      },
      "source": [
        "principalDf90 = principalDf.iloc[:,0:count]\n",
        "xTrain3,xTest3,yTrain3,yTest3=train_test_split(principalDf90,Y,test_size=0.50,random_state=70)\n",
        "kclusters = 2\n",
        "k_means = KMeans(n_clusters=kclusters)\n",
        "k_means.fit(xTrain3)\n",
        "yPredict3= k_means.predict(xTest3)\n",
        "score = metrics.accuracy_score(yTest3,yPredict3)\n",
        "print('Accuracy:{0:.2f}%'.format(score*100))\n"
      ],
      "execution_count": null,
      "outputs": [
        {
          "output_type": "stream",
          "text": [
            "Accuracy:67.10%\n"
          ],
          "name": "stdout"
        }
      ]
    },
    {
      "cell_type": "markdown",
      "metadata": {
        "id": "h460r8wT68ZZ"
      },
      "source": [
        "**Q10. Plot 'PC1' vs 'PC2' and represent the actual data points with different color to show the two classes.**"
      ]
    },
    {
      "cell_type": "code",
      "metadata": {
        "colab": {
          "base_uri": "https://localhost:8080/",
          "height": 295
        },
        "id": "IjRKOUo_7PVg",
        "outputId": "d042cd70-8b65-4bf2-8347-acc0e8694f5e"
      },
      "source": [
        "#Visualise data points\n",
        "xPC1 = xTest3.iloc[:,0]\n",
        "yPC2 = xTest3.iloc[:,1]\n",
        "xPC1 = np.array(xPC1)\n",
        "yPC2 = np.array(yPC2)\n",
        "\n",
        "\n",
        "for i in range(len(yTest3)):\n",
        "    if yTest3[i]==1:\n",
        "        plt.scatter(xPC1[i],yPC2[i],color='blue')\n",
        "    else:\n",
        "        plt.scatter(xPC1[i],yPC2[i],color='red')\n",
        "\n",
        "plt.title(\"PC1 vs PC2 (Represent the actual data)\")\n",
        "plt.xlabel('PC1')\n",
        "plt.ylabel('PC2')\n",
        "plt.show()"
      ],
      "execution_count": null,
      "outputs": [
        {
          "output_type": "display_data",
          "data": {
            "image/png": "[encoded data removed]",
            "text/plain": [
              "<Figure size 432x288 with 1 Axes>"
            ]
          },
          "metadata": {
            "tags": [],
            "needs_background": "light"
          }
        }
      ]
    },
    {
      "cell_type": "markdown",
      "metadata": {
        "id": "p4DM9rgr-u0E"
      },
      "source": [
        "**Q11. Plot 'PC1' vs 'PC2' and represent the predicted data points with different color to show the two classes.**"
      ]
    },
    {
      "cell_type": "code",
      "metadata": {
        "colab": {
          "base_uri": "https://localhost:8080/",
          "height": 295
        },
        "id": "gDQ0TM3H-4C2",
        "outputId": "ecead700-234d-4472-adcc-9ad0755374ee"
      },
      "source": [
        "for i in range(len(yPredict3)):\n",
        "    if yPredict3[i]==1:\n",
        "        plt.scatter(xPC1[i],yPC2[i],color='blue')\n",
        "    else:\n",
        "        plt.scatter(xPC1[i],yPC2[i],color='red')\n",
        "\n",
        "plt.title(\"PC1 vs PC2 (Represent the predicted data)\")\n",
        "plt.xlabel('PC1')\n",
        "plt.ylabel('PC2')\n",
        "plt.show()"
      ],
      "execution_count": null,
      "outputs": [
        {
          "output_type": "display_data",
          "data": {
            "image/png": "[encoded data removed]",
            "text/plain": [
              "<Figure size 432x288 with 1 Axes>"
            ]
          },
          "metadata": {
            "tags": [],
            "needs_background": "light"
          }
        }
      ]
    },
    {
      "cell_type": "markdown",
      "metadata": {
        "id": "LORHzl8qD29N"
      },
      "source": [
        "**Perform classifcation using NN from above using PCs that explain 90% variation.**\n",
        "--------------------------------------------------------------------------------\n",
        "**Q12. Provide the accuracy**\n",
        "\n"
      ]
    },
    {
      "cell_type": "code",
      "metadata": {
        "colab": {
          "base_uri": "https://localhost:8080/"
        },
        "id": "tLPCV8kJD35F",
        "outputId": "64867333-2ed8-47f7-acb5-b65cc713204b"
      },
      "source": [
        "X = principalDf90.values.astype(float)\n",
        "Y = data[:,9]\n",
        "\n",
        "# encode class values as integers\n",
        "encoder = LabelEncoder()\n",
        "encoder.fit(Y)\n",
        "encodedY = encoder.transform(Y)\n",
        "\n",
        "# convert integers to dummy variables (i.e. one hot encoded)\n",
        "dummyY = np_utils.to_categorical(encodedY)\n",
        "\n",
        "# ---------------------- Normalization Data----------------------------------------\n",
        "# define Standard Scaler\n",
        "scaler = StandardScaler()\n",
        "# transform data\n",
        "scaledX = scaler.fit_transform(X)\n",
        "\n",
        "# ---------------------- Spliting Data----------------------------------------------\n",
        "\n",
        "xTrain4,xTest4,yTrain4,yTest4 = train_test_split(scaledX,dummyY,test_size=0.50,random_state=70)\n",
        "\n",
        "# --------------- Structure: FCL (500,500,128 and 2 units) => three hidden layers and one output layer -----------\n",
        "\n",
        "def build_and_compile_model_2():\n",
        "\t# create model\n",
        "\tmodel = Sequential()\n",
        "\tmodel.add(Dense(500,input_dim=7, activation='relu'))\n",
        "\tmodel.add(Dense(500,activation='relu'))\n",
        "\tmodel.add(Dense(128,activation='relu'))\n",
        "\tmodel.add(Dense(2, activation='softmax'))\n",
        "\t# Compile model\n",
        "\tmodel.compile(loss='binary_crossentropy', optimizer='adam', metrics=['accuracy'])\n",
        "\treturn model\n",
        "\n",
        "estimator2 = KerasClassifier(build_fn=build_and_compile_model_2,epochs=35,batch_size=12,verbose=0)\n",
        "results2 = cross_val_score(estimator2,xTrain4,yTrain4)\n",
        "print(\"Accuracy: %.2f%% \" % (results2.mean()*100))\n",
        "\n"
      ],
      "execution_count": null,
      "outputs": [
        {
          "output_type": "stream",
          "text": [
            "Accuracy: 66.65% \n"
          ],
          "name": "stdout"
        }
      ]
    },
    {
      "cell_type": "markdown",
      "metadata": {
        "id": "thy_RCmeVTwN"
      },
      "source": [
        "**Q13. Plot 'PC1' vs 'PC2' and represent the actual data points with different color to show the two classes.**\n"
      ]
    },
    {
      "cell_type": "code",
      "metadata": {
        "colab": {
          "base_uri": "https://localhost:8080/",
          "height": 295
        },
        "id": "B1EyJlf8VVDc",
        "outputId": "c4dec5c6-6c54-4799-c684-07cd8ff76529"
      },
      "source": [
        "#Visualise data points\n",
        "xPC1 = xTest4[:,0]\n",
        "yPC2 = xTest4[:,1]\n",
        "\n",
        "# invert encoding\n",
        "inverted = np.argmax(yTest4, axis=1)\n",
        "\n",
        "\n",
        "for i in range(len(inverted)):\n",
        "    if inverted[i]==1:\n",
        "        plt.scatter(xPC1[i],yPC2[i],color='blue')\n",
        "    else:\n",
        "        plt.scatter(xPC1[i],yPC2[i],color='red')\n",
        "\n",
        "plt.title(\"PC1 vs PC2 (Represent the actual data)\")\n",
        "plt.xlabel('PC1')\n",
        "plt.ylabel('PC2')\n",
        "plt.show()"
      ],
      "execution_count": null,
      "outputs": [
        {
          "output_type": "display_data",
          "data": {
            "image/png": "[encoded data removed]",
            "text/plain": [
              "<Figure size 432x288 with 1 Axes>"
            ]
          },
          "metadata": {
            "tags": [],
            "needs_background": "light"
          }
        }
      ]
    },
    {
      "cell_type": "markdown",
      "metadata": {
        "id": "lKJhzcUcBYuo"
      },
      "source": [
        "**Q14. Plot 'PC1' vs 'PC2' and represent the predicted data points with different color to show the two classes.**"
      ]
    },
    {
      "cell_type": "code",
      "metadata": {
        "colab": {
          "base_uri": "https://localhost:8080/",
          "height": 295
        },
        "id": "QKuQIYsgBZZL",
        "outputId": "d3c85084-9e40-4ad7-c94a-7155c4ed1a07"
      },
      "source": [
        "#Visualise data points\n",
        "\n",
        "estimator2.fit(xTrain4,yTrain4)\n",
        "yPredict4= estimator2.predict(xTest4)\n",
        "\n",
        "#yPredict4=(estimator.predict(xTest2) > 0.5).astype(\"int32\")\n",
        "\n",
        "for i in range(len(yPredict4)):\n",
        "    if yPredict4[i]==1:\n",
        "        plt.scatter(xPC1[i],yPC2[i],color='blue')\n",
        "    else:\n",
        "        plt.scatter(xPC1[i],yPC2[i],color='red')\n",
        "\n",
        "plt.title(\"PC1 vs PC2 (Represent the predicted data points)\")\n",
        "plt.xlabel('PC1')\n",
        "plt.ylabel('PC2')\n",
        "plt.show()\n"
      ],
      "execution_count": null,
      "outputs": [
        {
          "output_type": "display_data",
          "data": {
            "image/png": "[encoded data removed]",
            "text/plain": [
              "<Figure size 432x288 with 1 Axes>"
            ]
          },
          "metadata": {
            "tags": [],
            "needs_background": "light"
          }
        }
      ]
    },
    {
      "cell_type": "markdown",
      "metadata": {
        "id": "L5mbP7ZVXant"
      },
      "source": [
        "**For Bonus**\n",
        "-------------\n"
      ]
    },
    {
      "cell_type": "markdown",
      "metadata": {
        "id": "ff1h7XlF0z0H"
      },
      "source": [
        "**Part-A**\n",
        "----------\n",
        "**Perform logistic regression for raw data and provide accuracy.**"
      ]
    },
    {
      "cell_type": "code",
      "metadata": {
        "colab": {
          "base_uri": "https://localhost:8080/"
        },
        "id": "FwMkYBABXjJ7",
        "outputId": "36de07ae-e79b-411c-d20e-f98fb826deb6"
      },
      "source": [
        "logisticRegr = LogisticRegression()\n",
        "logisticRegr.fit(xTrain, yTrain)\n",
        "score = logisticRegr.score(xTest, yTest)\n",
        "print(\"Accuracy: %.2f%% \" % (score*100))"
      ],
      "execution_count": null,
      "outputs": [
        {
          "output_type": "stream",
          "text": [
            "Accuracy: 71.86% \n"
          ],
          "name": "stdout"
        }
      ]
    },
    {
      "cell_type": "markdown",
      "metadata": {
        "id": "7tBKZkDKilcq"
      },
      "source": [
        "\n",
        "**Part- B**\n",
        "----------\n",
        "**Perform logistic regression for PCs that explain 90% variation and provide accuracy.**\n"
      ]
    },
    {
      "cell_type": "code",
      "metadata": {
        "colab": {
          "base_uri": "https://localhost:8080/"
        },
        "id": "be30g540imLv",
        "outputId": "b7c3b301-9a8f-441b-fa0f-1706cad11778"
      },
      "source": [
        "logisticRegr2 = LogisticRegression()\n",
        "logisticRegr2.fit(xTrain3, yTrain3)\n",
        "score2 = logisticRegr2.score(xTest3, yTest3)\n",
        "print(\"Accuracy: %.2f%% \" % (score2*100))"
      ],
      "execution_count": null,
      "outputs": [
        {
          "output_type": "stream",
          "text": [
            "Accuracy: 73.59% \n"
          ],
          "name": "stdout"
        }
      ]
    },
    {
      "cell_type": "markdown",
      "metadata": {
        "id": "tUKIRM1SovOY"
      },
      "source": [
        "**Out of three classifications, Which classifier would you propose to classify \"chd\"?**"
      ]
    },
    {
      "cell_type": "markdown",
      "metadata": {
        "id": "o6bEvZ87o0-Y"
      },
      "source": [
        "Logistic regression for PCs."
      ]
    }
  ]
}