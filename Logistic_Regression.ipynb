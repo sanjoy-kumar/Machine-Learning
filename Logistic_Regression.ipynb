{
  "nbformat": 4,
  "nbformat_minor": 0,
  "metadata": {
    "colab": {
      "name": "Logistic-Regression.ipynb",
      "provenance": [],
      "collapsed_sections": [],
      "authorship_tag": "ABX9TyPJKgDB1wnlb+EhD23n4pCj",
      "include_colab_link": true
    },
    "kernelspec": {
      "name": "python3",
      "display_name": "Python 3"
    },
    "language_info": {
      "name": "python"
    }
  },
  "cells": [
    {
      "cell_type": "markdown",
      "metadata": {
        "id": "view-in-github",
        "colab_type": "text"
      },
      "source": [
        "<a href=\"https://colab.research.google.com/github/sanjoy-kumar/Machine-Learning/blob/main/Logistic_Regression.ipynb\" target=\"_parent\"><img src=\"https://colab.research.google.com/assets/colab-badge.svg\" alt=\"Open In Colab\"/></a>"
      ]
    },
    {
      "cell_type": "markdown",
      "metadata": {
        "id": "QyAzV2eeutbo"
      },
      "source": [
        "\n",
        "**Gadiant Decent for Logistic Regression**\n",
        "-------------------------------------------\n",
        "**Introduction:**\n",
        "\n",
        "Gradient Descent is the process of minimizing a function by following the gradients of the cost function. This involves knowing the form of the cost as well as the derivative so that from a given point you know the gradient and can move in that direction, e.g. downhill towards the minimum value.\n",
        "\n"
      ]
    },
    {
      "cell_type": "code",
      "metadata": {
        "id": "pyaDAz1aupvw"
      },
      "source": [
        "#Importing required libraries\n",
        "import pandas as pd\n",
        "import numpy as np\n",
        "import math"
      ],
      "execution_count": null,
      "outputs": []
    },
    {
      "cell_type": "code",
      "metadata": {
        "colab": {
          "base_uri": "https://localhost:8080/",
          "height": 378
        },
        "id": "DrFaN6_9vzie",
        "outputId": "e2dd5307-033d-4efa-bafd-45608282422a"
      },
      "source": [
        "#loading heart.csv file\n",
        "HeartDF = pd.read_csv('https://raw.githubusercontent.com/tofighi/MachineLearning/master/datasets/heart.csv',index_col=0)\n",
        "HeartDF.head(10)"
      ],
      "execution_count": null,
      "outputs": [
        {
          "output_type": "execute_result",
          "data": {
            "text/html": [
              "<div>\n",
              "<style scoped>\n",
              "    .dataframe tbody tr th:only-of-type {\n",
              "        vertical-align: middle;\n",
              "    }\n",
              "\n",
              "    .dataframe tbody tr th {\n",
              "        vertical-align: top;\n",
              "    }\n",
              "\n",
              "    .dataframe thead th {\n",
              "        text-align: right;\n",
              "    }\n",
              "</style>\n",
              "<table border=\"1\" class=\"dataframe\">\n",
              "  <thead>\n",
              "    <tr style=\"text-align: right;\">\n",
              "      <th></th>\n",
              "      <th>sbp</th>\n",
              "      <th>tobacco</th>\n",
              "      <th>ldl</th>\n",
              "      <th>adiposity</th>\n",
              "      <th>famhist</th>\n",
              "      <th>typea</th>\n",
              "      <th>obesity</th>\n",
              "      <th>alcohol</th>\n",
              "      <th>age</th>\n",
              "      <th>chd</th>\n",
              "    </tr>\n",
              "    <tr>\n",
              "      <th>row.names</th>\n",
              "      <th></th>\n",
              "      <th></th>\n",
              "      <th></th>\n",
              "      <th></th>\n",
              "      <th></th>\n",
              "      <th></th>\n",
              "      <th></th>\n",
              "      <th></th>\n",
              "      <th></th>\n",
              "      <th></th>\n",
              "    </tr>\n",
              "  </thead>\n",
              "  <tbody>\n",
              "    <tr>\n",
              "      <th>1</th>\n",
              "      <td>160</td>\n",
              "      <td>12.00</td>\n",
              "      <td>5.73</td>\n",
              "      <td>23.11</td>\n",
              "      <td>Present</td>\n",
              "      <td>49</td>\n",
              "      <td>25.30</td>\n",
              "      <td>97.20</td>\n",
              "      <td>52</td>\n",
              "      <td>1</td>\n",
              "    </tr>\n",
              "    <tr>\n",
              "      <th>2</th>\n",
              "      <td>144</td>\n",
              "      <td>0.01</td>\n",
              "      <td>4.41</td>\n",
              "      <td>28.61</td>\n",
              "      <td>Absent</td>\n",
              "      <td>55</td>\n",
              "      <td>28.87</td>\n",
              "      <td>2.06</td>\n",
              "      <td>63</td>\n",
              "      <td>1</td>\n",
              "    </tr>\n",
              "    <tr>\n",
              "      <th>3</th>\n",
              "      <td>118</td>\n",
              "      <td>0.08</td>\n",
              "      <td>3.48</td>\n",
              "      <td>32.28</td>\n",
              "      <td>Present</td>\n",
              "      <td>52</td>\n",
              "      <td>29.14</td>\n",
              "      <td>3.81</td>\n",
              "      <td>46</td>\n",
              "      <td>0</td>\n",
              "    </tr>\n",
              "    <tr>\n",
              "      <th>4</th>\n",
              "      <td>170</td>\n",
              "      <td>7.50</td>\n",
              "      <td>6.41</td>\n",
              "      <td>38.03</td>\n",
              "      <td>Present</td>\n",
              "      <td>51</td>\n",
              "      <td>31.99</td>\n",
              "      <td>24.26</td>\n",
              "      <td>58</td>\n",
              "      <td>1</td>\n",
              "    </tr>\n",
              "    <tr>\n",
              "      <th>5</th>\n",
              "      <td>134</td>\n",
              "      <td>13.60</td>\n",
              "      <td>3.50</td>\n",
              "      <td>27.78</td>\n",
              "      <td>Present</td>\n",
              "      <td>60</td>\n",
              "      <td>25.99</td>\n",
              "      <td>57.34</td>\n",
              "      <td>49</td>\n",
              "      <td>1</td>\n",
              "    </tr>\n",
              "    <tr>\n",
              "      <th>6</th>\n",
              "      <td>132</td>\n",
              "      <td>6.20</td>\n",
              "      <td>6.47</td>\n",
              "      <td>36.21</td>\n",
              "      <td>Present</td>\n",
              "      <td>62</td>\n",
              "      <td>30.77</td>\n",
              "      <td>14.14</td>\n",
              "      <td>45</td>\n",
              "      <td>0</td>\n",
              "    </tr>\n",
              "    <tr>\n",
              "      <th>7</th>\n",
              "      <td>142</td>\n",
              "      <td>4.05</td>\n",
              "      <td>3.38</td>\n",
              "      <td>16.20</td>\n",
              "      <td>Absent</td>\n",
              "      <td>59</td>\n",
              "      <td>20.81</td>\n",
              "      <td>2.62</td>\n",
              "      <td>38</td>\n",
              "      <td>0</td>\n",
              "    </tr>\n",
              "    <tr>\n",
              "      <th>8</th>\n",
              "      <td>114</td>\n",
              "      <td>4.08</td>\n",
              "      <td>4.59</td>\n",
              "      <td>14.60</td>\n",
              "      <td>Present</td>\n",
              "      <td>62</td>\n",
              "      <td>23.11</td>\n",
              "      <td>6.72</td>\n",
              "      <td>58</td>\n",
              "      <td>1</td>\n",
              "    </tr>\n",
              "    <tr>\n",
              "      <th>9</th>\n",
              "      <td>114</td>\n",
              "      <td>0.00</td>\n",
              "      <td>3.83</td>\n",
              "      <td>19.40</td>\n",
              "      <td>Present</td>\n",
              "      <td>49</td>\n",
              "      <td>24.86</td>\n",
              "      <td>2.49</td>\n",
              "      <td>29</td>\n",
              "      <td>0</td>\n",
              "    </tr>\n",
              "    <tr>\n",
              "      <th>10</th>\n",
              "      <td>132</td>\n",
              "      <td>0.00</td>\n",
              "      <td>5.80</td>\n",
              "      <td>30.96</td>\n",
              "      <td>Present</td>\n",
              "      <td>69</td>\n",
              "      <td>30.11</td>\n",
              "      <td>0.00</td>\n",
              "      <td>53</td>\n",
              "      <td>1</td>\n",
              "    </tr>\n",
              "  </tbody>\n",
              "</table>\n",
              "</div>"
            ],
            "text/plain": [
              "           sbp  tobacco   ldl  adiposity  ... obesity  alcohol  age  chd\n",
              "row.names                                 ...                           \n",
              "1          160    12.00  5.73      23.11  ...   25.30    97.20   52    1\n",
              "2          144     0.01  4.41      28.61  ...   28.87     2.06   63    1\n",
              "3          118     0.08  3.48      32.28  ...   29.14     3.81   46    0\n",
              "4          170     7.50  6.41      38.03  ...   31.99    24.26   58    1\n",
              "5          134    13.60  3.50      27.78  ...   25.99    57.34   49    1\n",
              "6          132     6.20  6.47      36.21  ...   30.77    14.14   45    0\n",
              "7          142     4.05  3.38      16.20  ...   20.81     2.62   38    0\n",
              "8          114     4.08  4.59      14.60  ...   23.11     6.72   58    1\n",
              "9          114     0.00  3.83      19.40  ...   24.86     2.49   29    0\n",
              "10         132     0.00  5.80      30.96  ...   30.11     0.00   53    1\n",
              "\n",
              "[10 rows x 10 columns]"
            ]
          },
          "metadata": {
            "tags": []
          },
          "execution_count": 82
        }
      ]
    },
    {
      "cell_type": "markdown",
      "metadata": {
        "id": "0U0ejOaoyHeK"
      },
      "source": [
        "Q1. How much is the percentage each class 0 or 1?"
      ]
    },
    {
      "cell_type": "code",
      "metadata": {
        "colab": {
          "base_uri": "https://localhost:8080/"
        },
        "id": "XFWnd-DEyhFJ",
        "outputId": "9f51f422-2d2b-45fd-ca55-fb1bbec31e8b"
      },
      "source": [
        "Y = np.array(HeartDF[['chd']])\n",
        "n = len(Y)\n",
        "chd_zero = 0\n",
        "chd_one = 0\n",
        "garbage =0\n",
        "for i in range(n):\n",
        "  if Y[i] == 0:\n",
        "    chd_zero += 1\n",
        "  elif Y[i] == 1:\n",
        "    chd_one += 1\n",
        "  else:\n",
        "    garbage += 1\n",
        "\n",
        "percentage_of_zero = 0\n",
        "percentage_of_one = 0\n",
        "\n",
        "percentage_of_zero = (chd_zero/n)*100\n",
        "percentage_of_one = (chd_one/n)*100\n",
        "print(\"Percentage of zero(0) in each class is {:.2f}%.\".format(percentage_of_zero))\n",
        "print(\"Percentage of one(1) in each class is {:.2f}%.\".format(percentage_of_one))\n",
        "\n"
      ],
      "execution_count": null,
      "outputs": [
        {
          "output_type": "stream",
          "text": [
            "Percentage of zero(0) in each class is 65.37%.\n",
            "Percentage of one(1) in each class is 34.63%.\n"
          ],
          "name": "stdout"
        }
      ]
    },
    {
      "cell_type": "markdown",
      "metadata": {
        "id": "ICopbt_96VMh"
      },
      "source": [
        "# Q2. How many missing values do we have?"
      ]
    },
    {
      "cell_type": "code",
      "metadata": {
        "colab": {
          "base_uri": "https://localhost:8080/"
        },
        "id": "5U4M_f4k6ZFb",
        "outputId": "9b42b6c0-65af-4775-ba53-888544b1287c"
      },
      "source": [
        "# ----------------Count total NaN at each column in the DataFrame -------------\n",
        "\n",
        "print(\"\\nCount total NaN(Not a Number) at each column in the DataFrame :\\n\\n\",\n",
        "      HeartDF.isnull().sum())\n",
        "\n",
        "#---------------- Count total NaN in a DataFrame-------------------------------\n",
        "\n",
        "print(\" \\nCount total NaN(Not a Number) in the DataFrame : \\n\\n\",\n",
        "       HeartDF.isnull().sum().sum())"
      ],
      "execution_count": null,
      "outputs": [
        {
          "output_type": "stream",
          "text": [
            "\n",
            "Count total NaN(Not a Number) at each column in the DataFrame :\n",
            "\n",
            " sbp          0\n",
            "tobacco      0\n",
            "ldl          0\n",
            "adiposity    0\n",
            "famhist      0\n",
            "typea        0\n",
            "obesity      0\n",
            "alcohol      0\n",
            "age          0\n",
            "chd          0\n",
            "dtype: int64\n",
            " \n",
            "Count total NaN(Not a Number) in the DataFrame : \n",
            "\n",
            " 0\n"
          ],
          "name": "stdout"
        }
      ]
    },
    {
      "cell_type": "markdown",
      "metadata": {
        "id": "Uly0UKCf72mF"
      },
      "source": [
        "Q3. How many categorical variables you have in your features?\n",
        "\n",
        "Answer: one categorical variable we have in our features. It is '**famhist**'.\n",
        "\n",
        "Encode the categorical variable:"
      ]
    },
    {
      "cell_type": "code",
      "metadata": {
        "colab": {
          "base_uri": "https://localhost:8080/"
        },
        "id": "VhH5hY6tLSVu",
        "outputId": "33832f0f-6810-442a-f321-8c88ebc0f943"
      },
      "source": [
        "HeartDF['famhist']= pd.get_dummies(HeartDF['famhist'])\n",
        "HeartDF.head(10)\n",
        "\n",
        "# ----------------Count total NaN at each column in the DataFrame -------------\n",
        "\n",
        "print(\"\\nCount total NaN(Not a Number) at 'famhist' column after Encoding :\\n\\n\",\n",
        "      HeartDF['famhist'].isnull().sum())\n"
      ],
      "execution_count": null,
      "outputs": [
        {
          "output_type": "stream",
          "text": [
            "\n",
            "Count total NaN(Not a Number) at 'famhist' column after Encoding :\n",
            "\n",
            " 0\n"
          ],
          "name": "stdout"
        }
      ]
    },
    {
      "cell_type": "markdown",
      "metadata": {
        "id": "jj4Lu4Vc876i"
      },
      "source": [
        "Q4. What featues have the maximum corelation?"
      ]
    },
    {
      "cell_type": "code",
      "metadata": {
        "colab": {
          "base_uri": "https://localhost:8080/"
        },
        "id": "8HhRYcYZ-bxz",
        "outputId": "e47568cd-262a-4ede-e029-7cf9c8d5edeb"
      },
      "source": [
        "\n",
        "print(HeartDF.corr(method ='pearson').abs())\n",
        "#print(HeartDF.corr().abs().unstack().sort_values(ascending=False))\n",
        "\n",
        "def get_redundant_pairs(HeartDF):\n",
        "    '''Get diagonal and lower triangular pairs of correlation matrix'''\n",
        "    pairs_to_drop = set()\n",
        "    cols = HeartDF.columns\n",
        "    for i in range(0, HeartDF.shape[1]):\n",
        "        for j in range(0, i+1):\n",
        "            pairs_to_drop.add((cols[i], cols[j]))\n",
        "    return pairs_to_drop\n",
        "\n",
        "def get_top_abs_correlations(HeartDF, n=5):\n",
        "    au_corr = HeartDF.corr().abs().unstack()\n",
        "    labels_to_drop = get_redundant_pairs(HeartDF)\n",
        "    au_corr = au_corr.drop(labels=labels_to_drop).sort_values(ascending=False)\n",
        "    return au_corr[0:n]\n",
        "\n",
        "print(\"\\n---\\t --------\\t-----------\")\n",
        "print(\"Top\\t Absolute \\tCorrelations\")\n",
        "print(\"---\\t --------\\t-----------\")\n",
        "print(get_top_abs_correlations(HeartDF, 3))\n"
      ],
      "execution_count": null,
      "outputs": [
        {
          "output_type": "stream",
          "text": [
            "                sbp   tobacco       ldl  ...   alcohol       age       chd\n",
            "sbp        1.000000  0.212247  0.158296  ...  0.140096  0.388771  0.192354\n",
            "tobacco    0.212247  1.000000  0.158905  ...  0.200813  0.450330  0.299718\n",
            "ldl        0.158296  0.158905  1.000000  ...  0.033403  0.311799  0.263053\n",
            "adiposity  0.356500  0.286640  0.440432  ...  0.100330  0.625954  0.254121\n",
            "famhist    0.085645  0.088601  0.161353  ...  0.080520  0.239667  0.272373\n",
            "typea      0.057454  0.014608  0.044048  ...  0.039498  0.102606  0.103156\n",
            "obesity    0.238067  0.124529  0.330506  ...  0.051620  0.291777  0.100095\n",
            "alcohol    0.140096  0.200813  0.033403  ...  1.000000  0.101125  0.062531\n",
            "age        0.388771  0.450330  0.311799  ...  0.101125  1.000000  0.372973\n",
            "chd        0.192354  0.299718  0.263053  ...  0.062531  0.372973  1.000000\n",
            "\n",
            "[10 rows x 10 columns]\n",
            "\n",
            "---\t --------\t-----------\n",
            "Top\t Absolute \tCorrelations\n",
            "---\t --------\t-----------\n",
            "adiposity  obesity    0.716556\n",
            "           age        0.625954\n",
            "tobacco    age        0.450330\n",
            "dtype: float64\n"
          ],
          "name": "stdout"
        }
      ]
    },
    {
      "cell_type": "markdown",
      "metadata": {
        "id": "XAvYwXDpxXLS"
      },
      "source": [
        "**Standardization:**\n",
        "\n",
        "\n"
      ]
    },
    {
      "cell_type": "code",
      "metadata": {
        "id": "ykgBgeY8xY3O",
        "colab": {
          "base_uri": "https://localhost:8080/",
          "height": 135
        },
        "outputId": "510dfb49-86da-43e6-91b5-d2b3765abdfb"
      },
      "source": [
        "def mean(HeartDF):\n",
        "    n = len(HeartDF)\n",
        "    results = sum(HeartDF)/n\n",
        "    return results\n",
        "\n",
        "def standard_deviation(HeartDF):\n",
        "    \n",
        "\n",
        "standardized_HeartDF = (HeartDF - mean(HeartDF)) / standard_deviation(HeartDF))\n"
      ],
      "execution_count": 126,
      "outputs": [
        {
          "output_type": "error",
          "ename": "SyntaxError",
          "evalue": "ignored",
          "traceback": [
            "\u001b[0;36m  File \u001b[0;32m\"<ipython-input-126-a24135fc1390>\"\u001b[0;36m, line \u001b[0;32m5\u001b[0m\n\u001b[0;31m    standardized_HeartDF = (HeartDF - mean(HeartDF)) / standard_deviation(HeartDF))\u001b[0m\n\u001b[0m                                                                                  ^\u001b[0m\n\u001b[0;31mSyntaxError\u001b[0m\u001b[0;31m:\u001b[0m invalid syntax\n"
          ]
        }
      ]
    }
  ]
}