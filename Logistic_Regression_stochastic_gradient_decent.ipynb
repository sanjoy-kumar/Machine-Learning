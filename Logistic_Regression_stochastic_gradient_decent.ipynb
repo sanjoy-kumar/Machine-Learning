{
  "nbformat": 4,
  "nbformat_minor": 0,
  "metadata": {
    "colab": {
      "name": "Logistic-Regression-stochastic-gradient-decent.ipynb",
      "provenance": [],
      "collapsed_sections": [],
      "authorship_tag": "ABX9TyPV0fdCPx/9G5dJMFDWxsgC",
      "include_colab_link": true
    },
    "kernelspec": {
      "name": "python3",
      "display_name": "Python 3"
    },
    "language_info": {
      "name": "python"
    }
  },
  "cells": [
    {
      "cell_type": "markdown",
      "metadata": {
        "id": "view-in-github",
        "colab_type": "text"
      },
      "source": [
        "<a href=\"https://colab.research.google.com/github/sanjoy-kumar/Machine-Learning/blob/main/Logistic_Regression_stochastic_gradient_decent.ipynb\" target=\"_parent\"><img src=\"https://colab.research.google.com/assets/colab-badge.svg\" alt=\"Open In Colab\"/></a>"
      ]
    },
    {
      "cell_type": "markdown",
      "metadata": {
        "id": "QyAzV2eeutbo"
      },
      "source": [
        "\n",
        "**Gadiant Decent for Logistic Regression**\n",
        "-------------------------------------------\n",
        "**Introduction:**\n",
        "\n",
        "Gradient Descent is the process of minimizing a function by following the gradients of the cost function. This involves knowing the form of the cost as well as the derivative so that from a given point you know the gradient and can move in that direction, e.g. downhill towards the minimum value.\n",
        "\n"
      ]
    },
    {
      "cell_type": "markdown",
      "metadata": {
        "id": "8nVELAeRT8kQ"
      },
      "source": [
        "**Implementation Steps:**\n",
        "--------------------------\n"
      ]
    },
    {
      "cell_type": "code",
      "metadata": {
        "id": "pyaDAz1aupvw"
      },
      "source": [
        "#Importing required libraries\n",
        "import pandas as pd\n",
        "import numpy as np\n",
        "import matplotlib.pyplot as plt\n",
        "import math\n",
        "import random\n"
      ],
      "execution_count": 415,
      "outputs": []
    },
    {
      "cell_type": "code",
      "metadata": {
        "id": "DrFaN6_9vzie"
      },
      "source": [
        "#loading heart.csv file\n",
        "HeartDF = pd.read_csv('https://raw.githubusercontent.com/tofighi/MachineLearning/master/datasets/heart.csv',index_col=0)\n",
        "HeartDF['famhist']= pd.get_dummies(HeartDF['famhist'])\n",
        "X=HeartDF.iloc[:,0:9]\n",
        "Y=HeartDF.iloc[:,[9]]\n"
      ],
      "execution_count": 416,
      "outputs": []
    },
    {
      "cell_type": "markdown",
      "metadata": {
        "id": "XAvYwXDpxXLS"
      },
      "source": [
        "**Standardization:**\n",
        "\n",
        "\n"
      ]
    },
    {
      "cell_type": "code",
      "metadata": {
        "id": "ykgBgeY8xY3O"
      },
      "source": [
        "# apply the z-score method in Pandas using the .mean() and .std() methods\n",
        "\n",
        "def normalization(df):\n",
        "    # copy the dataframe\n",
        "    df_std = df.copy()\n",
        "    # apply the z-score method\n",
        "    for column in df_std.columns:\n",
        "        df_std[column] = (df_std[column] - df_std[column].mean()) / df_std[column].std()        \n",
        "    return df_std\n",
        "    \n",
        "# call the z_score function\n",
        "X_new = normalization(X)\n",
        "HeartDF.iloc[:,0:9] = X_new\n",
        "\n"
      ],
      "execution_count": 417,
      "outputs": []
    },
    {
      "cell_type": "markdown",
      "metadata": {
        "id": "8KhQzN18RpFh"
      },
      "source": [
        "**Initialization**\n"
      ]
    },
    {
      "cell_type": "code",
      "metadata": {
        "id": "r8lL8fbWRrXG"
      },
      "source": [
        "def initialize_thetas():\n",
        "    random.seed(10) \n",
        "    b = random.random()\n",
        "    w = np.random.random(9)\n",
        "    return b,w"
      ],
      "execution_count": 418,
      "outputs": []
    },
    {
      "cell_type": "markdown",
      "metadata": {
        "id": "0XI2DoVtS3I7"
      },
      "source": [
        "**Hypothesis(Model)**"
      ]
    },
    {
      "cell_type": "code",
      "metadata": {
        "id": "SxKr0RMOS4AZ"
      },
      "source": [
        "def predict(row, b, w):\n",
        "    yhat = b\n",
        "    for i in range(len(row)-1):\n",
        "        yhat += w[i] * row[i]\n",
        "    return 1.0 / (1.0 + math.exp(-yhat))\n"
      ],
      "execution_count": 419,
      "outputs": []
    },
    {
      "cell_type": "markdown",
      "metadata": {
        "id": "Bt2dULcSV1CD"
      },
      "source": [
        "**Cost Function**"
      ]
    },
    {
      "cell_type": "code",
      "metadata": {
        "id": "mAsefmRXV6Sq"
      },
      "source": [
        "def get_cost(y,y_hat):\n",
        "    return - np.sum(np.dot(y.T,np.log(1-y_hat)+ np.dot((1-y).T,np.log(1-y_hat))))\n"
      ],
      "execution_count": 420,
      "outputs": []
    },
    {
      "cell_type": "markdown",
      "metadata": {
        "id": "z9WAPJSJV7Ow"
      },
      "source": [
        "**Stochastic Gradient Decent Iteration**\n"
      ]
    },
    {
      "cell_type": "code",
      "metadata": {
        "id": "QwU78vzLWPgu"
      },
      "source": [
        "# ---- Write a code for logistic regression coefficients using stochastic gradient descent----\n",
        "\n",
        "def stochastic_gradient_descent(DF,learning_rate, iterations):\n",
        "  all_error = []\n",
        "  df = DF.values  \n",
        "  b,w = initialize_thetas()\n",
        "  for itera in range(iterations):\n",
        "      sum_error = 0\n",
        "      for row in df:\n",
        "          yhat = predict(row,b,w)\n",
        "          y = row[-1]\n",
        "          error = get_cost(y,yhat)\n",
        "          sum_error += error\n",
        "          b = b + learning_rate * (y - yhat)\n",
        "          for i in range(len(row)-1):\n",
        "              w[i] = w[i] + learning_rate * (y - yhat) * row[i]\n",
        "      all_error.append(sum_error)\n",
        "  return all_error"
      ],
      "execution_count": 421,
      "outputs": []
    },
    {
      "cell_type": "markdown",
      "metadata": {
        "id": "Onck0ZDJ26K6"
      },
      "source": [
        "**Learning Curve**"
      ]
    },
    {
      "cell_type": "markdown",
      "metadata": {
        "id": "K1YltYbEIozK"
      },
      "source": [
        "**Case - 1**\n",
        "\n",
        "alpha = 0.001 &\n",
        "iterations = 500"
      ]
    },
    {
      "cell_type": "code",
      "metadata": {
        "id": "bkW5qI8229EX",
        "colab": {
          "base_uri": "https://localhost:8080/",
          "height": 404
        },
        "outputId": "eecb701b-dd70-4e87-80cb-45d88e666d52"
      },
      "source": [
        "alpha = 0.001\n",
        "num_iterations=500\n",
        "all_error=stochastic_gradient_descent(HeartDF,alpha,num_iterations)\n",
        "print(\"\\n1st error is {}\".format(all_error[0]))\n",
        "print(\"\\n{0}th error is {1}\".format(num_iterations,all_error[-1]))\n",
        "print(\"\\n\")\n",
        "plt.plot(range(num_iterations),all_error, label ='Learning rate = 0.001 & Iterations = 500')\n",
        "plt.legend()\n",
        "plt.xlabel(\"Number of Iterations\")\n",
        "plt.ylabel(\"Total Cost\")\n",
        "plt.title(\"Iteration VS Total Cost\")\n",
        "plt.show()"
      ],
      "execution_count": 430,
      "outputs": [
        {
          "output_type": "stream",
          "text": [
            "\n",
            "First error is 293.6808966029207\n",
            "\n",
            "500th error is 132.88168009870557\n",
            "\n",
            "\n"
          ],
          "name": "stdout"
        },
        {
          "output_type": "display_data",
          "data": {
            "image/png": "[encoded data removed]",
            "text/plain": [
              "<Figure size 432x288 with 1 Axes>"
            ]
          },
          "metadata": {
            "tags": [],
            "needs_background": "light"
          }
        }
      ]
    },
    {
      "cell_type": "markdown",
      "metadata": {
        "id": "QvYFNqFTZuIV"
      },
      "source": [
        "**Case - 2**\n",
        "\n",
        "alpha = 0.001 &\n",
        "iterations = 1000"
      ]
    },
    {
      "cell_type": "code",
      "metadata": {
        "colab": {
          "base_uri": "https://localhost:8080/",
          "height": 367
        },
        "id": "6diB4z09ZySu",
        "outputId": "8d8d3fd3-349d-4429-a028-ed70d1b03cf1"
      },
      "source": [
        "alpha = 0.001\n",
        "num_iterations=1000\n",
        "all_error=stochastic_gradient_descent(HeartDF,alpha,num_iterations)\n",
        "print(\"\\n1st error is {}\".format(all_error[0]))\n",
        "print(\"\\n{0}th error is {1}\".format(num_iterations,all_error[-1]))\n",
        "print(\"\\n\")\n",
        "plt.plot(range(num_iterations),all_error, label ='Learning rate = 0.001 & Iterations = 1000')\n",
        "plt.legend()\n",
        "plt.xlabel(\"Number of Iterations\")\n",
        "plt.ylabel(\"Total Cost\")\n",
        "plt.title(\"Iteration VS Total Cost\")\n",
        "plt.show()"
      ],
      "execution_count": 423,
      "outputs": [
        {
          "output_type": "stream",
          "text": [
            "\n",
            "1000th error is 132.882271138789\n",
            "\n",
            "\n"
          ],
          "name": "stdout"
        },
        {
          "output_type": "display_data",
          "data": {
            "image/png": "[encoded data removed]",
            "text/plain": [
              "<Figure size 432x288 with 1 Axes>"
            ]
          },
          "metadata": {
            "tags": [],
            "needs_background": "light"
          }
        }
      ]
    },
    {
      "cell_type": "markdown",
      "metadata": {
        "id": "dHZnjdnwaBH2"
      },
      "source": [
        "**Case - 3**\n",
        "\n",
        "alpha = 0.001 &\n",
        "iterations = 10000"
      ]
    },
    {
      "cell_type": "code",
      "metadata": {
        "colab": {
          "base_uri": "https://localhost:8080/",
          "height": 367
        },
        "id": "FbeJrWUEaFBo",
        "outputId": "b060e5a6-3127-4dfd-d943-2ba04e8c37bf"
      },
      "source": [
        "alpha = 0.001\n",
        "num_iterations=10000\n",
        "all_error=stochastic_gradient_descent(HeartDF,alpha,num_iterations)\n",
        "print(\"\\n1st error is {}\".format(all_error[0]))\n",
        "print(\"\\n{0}th error is {1}\".format(num_iterations,all_error[-1]))\n",
        "print(\"\\n\")\n",
        "plt.plot(range(num_iterations),all_error, label ='Learning rate = 0.001 & Iterations = 10000')\n",
        "plt.legend()\n",
        "plt.xlabel(\"Number of Iterations\")\n",
        "plt.ylabel(\"Total Cost\")\n",
        "plt.title(\"Iteration VS Total Cost\")\n",
        "plt.show()"
      ],
      "execution_count": 424,
      "outputs": [
        {
          "output_type": "stream",
          "text": [
            "\n",
            "10000th error is 132.88227551836974\n",
            "\n",
            "\n"
          ],
          "name": "stdout"
        },
        {
          "output_type": "display_data",
          "data": {
            "image/png": "[encoded data removed]",
            "text/plain": [
              "<Figure size 432x288 with 1 Axes>"
            ]
          },
          "metadata": {
            "tags": [],
            "needs_background": "light"
          }
        }
      ]
    },
    {
      "cell_type": "markdown",
      "metadata": {
        "id": "QMHvDrDgaFmf"
      },
      "source": [
        "**Case - 4**\n",
        "\n",
        "alpha = 0.0001 &\n",
        "iterations = 500"
      ]
    },
    {
      "cell_type": "code",
      "metadata": {
        "colab": {
          "base_uri": "https://localhost:8080/",
          "height": 367
        },
        "id": "rsHsQzW0aKPF",
        "outputId": "3df31d04-705c-423d-9547-6dff59ae7761"
      },
      "source": [
        "alpha = 0.0001\n",
        "num_iterations=500\n",
        "all_error=stochastic_gradient_descent(HeartDF,alpha,num_iterations)\n",
        "print(\"\\n1st error is {}\".format(all_error[0]))\n",
        "print(\"\\n{0}th error is {1}\".format(num_iterations,all_error[-1]))\n",
        "print(\"\\n\")\n",
        "plt.plot(range(num_iterations),all_error, label ='Learning rate = 0.0001 & Iterations = 500')\n",
        "plt.legend()\n",
        "plt.xlabel(\"Number of Iterations\")\n",
        "plt.ylabel(\"Total Cost\")\n",
        "plt.title(\"Iteration VS Total Cost\")\n",
        "plt.show()"
      ],
      "execution_count": 425,
      "outputs": [
        {
          "output_type": "stream",
          "text": [
            "\n",
            "500th error is 132.66093607743088\n",
            "\n",
            "\n"
          ],
          "name": "stdout"
        },
        {
          "output_type": "display_data",
          "data": {
            "image/png": "[encoded data removed]",
            "text/plain": [
              "<Figure size 432x288 with 1 Axes>"
            ]
          },
          "metadata": {
            "tags": [],
            "needs_background": "light"
          }
        }
      ]
    },
    {
      "cell_type": "markdown",
      "metadata": {
        "id": "yeHQkt4jaMIZ"
      },
      "source": [
        "**Case - 5**\n",
        "\n",
        "alpha = 0.0001 &\n",
        "iterations = 1000"
      ]
    },
    {
      "cell_type": "code",
      "metadata": {
        "colab": {
          "base_uri": "https://localhost:8080/",
          "height": 367
        },
        "id": "nGD9y7UaaO1Q",
        "outputId": "c2f8b07e-6ebf-406a-ed08-ae5f6e03f48a"
      },
      "source": [
        "alpha = 0.0001\n",
        "num_iterations=1000\n",
        "all_error=stochastic_gradient_descent(HeartDF,alpha,num_iterations)\n",
        "print(\"\\n1st error is {}\".format(all_error[0]))\n",
        "print(\"\\n{0}th error is {1}\".format(num_iterations,all_error[-1]))\n",
        "print(\"\\n\")\n",
        "plt.plot(range(num_iterations),all_error, label ='Learning rate = 0.0001 & Iterations = 1000')\n",
        "plt.legend()\n",
        "plt.xlabel(\"Number of Iterations\")\n",
        "plt.ylabel(\"Total Cost\")\n",
        "plt.title(\"Iteration VS Total Cost\")\n",
        "plt.show()"
      ],
      "execution_count": 426,
      "outputs": [
        {
          "output_type": "stream",
          "text": [
            "\n",
            "1000th error is 132.93878584903666\n",
            "\n",
            "\n"
          ],
          "name": "stdout"
        },
        {
          "output_type": "display_data",
          "data": {
            "image/png": "[encoded data removed]",
            "text/plain": [
              "<Figure size 432x288 with 1 Axes>"
            ]
          },
          "metadata": {
            "tags": [],
            "needs_background": "light"
          }
        }
      ]
    },
    {
      "cell_type": "markdown",
      "metadata": {
        "id": "pz1dRn0haRJB"
      },
      "source": [
        "**Case - 6**\n",
        "\n",
        "alpha = 0.0001 &\n",
        "iterations = 10000"
      ]
    },
    {
      "cell_type": "code",
      "metadata": {
        "colab": {
          "base_uri": "https://localhost:8080/",
          "height": 367
        },
        "id": "lhpY6j2FaTqe",
        "outputId": "10c9722e-40c5-4e95-af8c-cbd719450a16"
      },
      "source": [
        "alpha = 0.0001\n",
        "num_iterations=10000\n",
        "all_error=stochastic_gradient_descent(HeartDF,alpha,num_iterations)\n",
        "print(\"\\n1st error is {}\".format(all_error[0]))\n",
        "print(\"\\n{0}th error is {1}\".format(num_iterations,all_error[-1]))\n",
        "print(\"\\n\")\n",
        "plt.plot(range(num_iterations),all_error, label ='Learning rate = 0.0001 & Iterations = 10000')\n",
        "plt.legend()\n",
        "plt.xlabel(\"Number of Iterations\")\n",
        "plt.ylabel(\"Total Cost\")\n",
        "plt.title(\"Iteration VS Total Cost\")\n",
        "plt.show()"
      ],
      "execution_count": 427,
      "outputs": [
        {
          "output_type": "stream",
          "text": [
            "\n",
            "10000th error is 132.98232920766807\n",
            "\n",
            "\n"
          ],
          "name": "stdout"
        },
        {
          "output_type": "display_data",
          "data": {
            "image/png": "[encoded data removed]",
            "text/plain": [
              "<Figure size 432x288 with 1 Axes>"
            ]
          },
          "metadata": {
            "tags": [],
            "needs_background": "light"
          }
        }
      ]
    }
  ]
}